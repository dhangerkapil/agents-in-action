{
 "cells": [
  {
   "cell_type": "markdown",
   "id": "af16324f",
   "metadata": {},
   "source": [
    "# Aggregate Results of Different Types\n",
    "\n",
    "This notebook demonstrates how to use **fan-out and fan-in patterns** in the Agent Framework to execute multiple tasks in parallel and aggregate their results, even when they return different types.\n",
    "\n",
    "## Key Concepts\n",
    "\n",
    "### Fan-Out Pattern\n",
    "- **Fan-out** allows a single executor to dispatch work to multiple executors in parallel\n",
    "- Uses `add_fan_out_edges()` to create parallel execution paths\n",
    "- Each target executor receives a copy of the input data\n",
    "- All parallel executors run concurrently\n",
    "\n",
    "### Fan-In Pattern\n",
    "- **Fan-in** collects results from multiple parallel executors into a single point\n",
    "- Uses `add_fan_in_edges()` to aggregate results\n",
    "- Results are collected as a list in the order of edge definition\n",
    "- Supports heterogeneous result types using union types\n",
    "\n",
    "### Union Type Handling\n",
    "- Python's union types (`int | float`) allow different result types\n",
    "- Type checking ensures type safety at compile time\n",
    "- Runtime type inspection enables flexible result processing\n",
    "\n",
    "## Workflow Architecture\n",
    "\n",
    "```\n",
    "Dispatcher (generates numbers)\n",
    "    ├──> AverageExecutor (computes average → float)\n",
    "    └──> SumExecutor (computes sum → int)\n",
    "             ↓\n",
    "         Aggregator (collects list[int | float])\n",
    "```\n",
    "\n",
    "## What This Example Shows\n",
    "\n",
    "1. **Parallel Task Execution**: Two different computations run simultaneously\n",
    "2. **Type-Safe Aggregation**: Handling mixed result types (int and float)\n",
    "3. **Automatic Result Collection**: Framework manages parallel execution and collection\n",
    "4. **Simple API**: `add_fan_out_edges()` and `add_fan_in_edges()` handle complexity"
   ]
  },
  {
   "cell_type": "markdown",
   "id": "eb686a52",
   "metadata": {},
   "source": [
    "## Setup\n",
    "\n",
    "Import the required modules from the Agent Framework."
   ]
  },
  {
   "cell_type": "code",
   "execution_count": null,
   "id": "837d128d",
   "metadata": {},
   "outputs": [],
   "source": [
    "import random\n",
    "from dataclasses import dataclass\n",
    "\n",
    "from agent_framework.workflows import Executor, ExecutorContext, Workflow\n",
    "import os\n",
    "from dotenv import load_dotenv\n",
    "\n",
    "# Load environment variables from .env file\n",
    "load_dotenv('../../.env')\n"
   ]
  },
  {
   "cell_type": "markdown",
   "id": "e1f7536e",
   "metadata": {},
   "source": [
    "## Define Message Types\n",
    "\n",
    "We'll use dataclasses to represent the messages flowing through the workflow:\n",
    "\n",
    "- **`Numbers`**: Contains a list of integers to process\n",
    "- **`Result`**: Holds the final aggregated results (both average and sum)"
   ]
  },
  {
   "cell_type": "code",
   "execution_count": null,
   "id": "805dc720",
   "metadata": {},
   "outputs": [],
   "source": [
    "@dataclass\n",
    "class Numbers:\n",
    "    \"\"\"Contains a list of numbers to process.\"\"\"\n",
    "    values: list[int]\n",
    "\n",
    "\n",
    "@dataclass\n",
    "class Result:\n",
    "    \"\"\"Contains the aggregated results from parallel computations.\"\"\"\n",
    "    results: list[int | float]  # Union type allows mixed int and float results"
   ]
  },
  {
   "cell_type": "markdown",
   "id": "e9161492",
   "metadata": {},
   "source": [
    "## Dispatcher Executor\n",
    "\n",
    "The **DispatcherExecutor** generates random numbers and fans them out to multiple executors for parallel processing.\n",
    "\n",
    "### Key Features:\n",
    "- Generates 10 random integers between 1 and 100\n",
    "- Returns a `Numbers` object that will be sent to all fan-out targets\n",
    "- Serves as the entry point for the workflow"
   ]
  },
  {
   "cell_type": "code",
   "execution_count": null,
   "id": "bb23c8b4",
   "metadata": {},
   "outputs": [],
   "source": [
    "class DispatcherExecutor(Executor[None, Numbers]):\n",
    "    \"\"\"Generates random numbers and dispatches them to parallel executors.\"\"\"\n",
    "\n",
    "    async def execute(self, ctx: ExecutorContext[None]) -> Numbers:\n",
    "        numbers = [random.randint(1, 100) for _ in range(10)]\n",
    "        print(f\"Generated numbers: {numbers}\")\n",
    "        return Numbers(values=numbers)"
   ]
  },
  {
   "cell_type": "markdown",
   "id": "bf4c68a5",
   "metadata": {},
   "source": [
    "## Parallel Processing Executors\n",
    "\n",
    "These executors perform different computations on the same input data in parallel:\n",
    "\n",
    "### AverageExecutor\n",
    "- Computes the average of numbers\n",
    "- Returns a **float** result\n",
    "- Demonstrates floating-point computation\n",
    "\n",
    "### SumExecutor\n",
    "- Computes the sum of numbers\n",
    "- Returns an **int** result\n",
    "- Demonstrates integer computation\n",
    "\n",
    "Both executors run **concurrently** and independently."
   ]
  },
  {
   "cell_type": "code",
   "execution_count": null,
   "id": "f1fa7101",
   "metadata": {},
   "outputs": [],
   "source": [
    "class AverageExecutor(Executor[Numbers, float]):\n",
    "    \"\"\"Computes the average of numbers.\"\"\"\n",
    "\n",
    "    async def execute(self, ctx: ExecutorContext[Numbers]) -> float:\n",
    "        numbers = ctx.get_input_data().values\n",
    "        average = sum(numbers) / len(numbers)\n",
    "        print(f\"Average: {average}\")\n",
    "        return average\n",
    "\n",
    "\n",
    "class SumExecutor(Executor[Numbers, int]):\n",
    "    \"\"\"Computes the sum of numbers.\"\"\"\n",
    "\n",
    "    async def execute(self, ctx: ExecutorContext[Numbers]) -> int:\n",
    "        numbers = ctx.get_input_data().values\n",
    "        total = sum(numbers)\n",
    "        print(f\"Sum: {total}\")\n",
    "        return total"
   ]
  },
  {
   "cell_type": "markdown",
   "id": "f7820c25",
   "metadata": {},
   "source": [
    "## Aggregator Executor\n",
    "\n",
    "The **AggregatorExecutor** fans in results from the parallel executors.\n",
    "\n",
    "### Key Features:\n",
    "- Receives `list[int | float]` - a union type accommodating both int and float\n",
    "- Results arrive in the order edges were added (average first, then sum)\n",
    "- Demonstrates type-safe handling of heterogeneous results\n",
    "- Creates final `Result` object with aggregated data"
   ]
  },
  {
   "cell_type": "code",
   "execution_count": null,
   "id": "bc1b2f5c",
   "metadata": {},
   "outputs": [],
   "source": [
    "class AggregatorExecutor(Executor[list[int | float], Result]):\n",
    "    \"\"\"Aggregates results from parallel executors.\"\"\"\n",
    "\n",
    "    async def execute(self, ctx: ExecutorContext[list[int | float]]) -> Result:\n",
    "        results = ctx.get_input_data()\n",
    "        print(f\"Aggregated results: {results}\")\n",
    "        print(f\"Result types: {[type(r).__name__ for r in results]}\")\n",
    "        return Result(results=results)"
   ]
  },
  {
   "cell_type": "markdown",
   "id": "1cd1d95c",
   "metadata": {},
   "source": [
    "## Build the Workflow\n",
    "\n",
    "Now we'll construct the workflow graph with fan-out and fan-in edges.\n",
    "\n",
    "### Workflow Construction Steps:\n",
    "\n",
    "1. **Create executor instances**\n",
    "2. **Add fan-out edges** from Dispatcher to Average and Sum executors\n",
    "   - `add_fan_out_edges()` creates parallel execution paths\n",
    "3. **Add fan-in edges** from Average and Sum executors to Aggregator\n",
    "   - `add_fan_in_edges()` collects results into a list\n",
    "4. **Set entry point** to Dispatcher\n",
    "\n",
    "### Graph Visualization:\n",
    "```\n",
    "         Dispatcher\n",
    "         /        \\\n",
    "    Average      Sum\n",
    "         \\        /\n",
    "        Aggregator\n",
    "```"
   ]
  },
  {
   "cell_type": "code",
   "execution_count": null,
   "id": "9b9cc400",
   "metadata": {},
   "outputs": [],
   "source": [
    "# Create executor instances\n",
    "dispatcher = DispatcherExecutor()\n",
    "average = AverageExecutor()\n",
    "sum_executor = SumExecutor()\n",
    "aggregator = AggregatorExecutor()\n",
    "\n",
    "# Build the workflow\n",
    "workflow = Workflow()\n",
    "\n",
    "# Fan out from dispatcher to parallel executors\n",
    "workflow.add_fan_out_edges(dispatcher, [average, sum_executor])\n",
    "\n",
    "# Fan in from parallel executors to aggregator\n",
    "workflow.add_fan_in_edges([average, sum_executor], aggregator)\n",
    "\n",
    "# Set the entry point\n",
    "workflow.set_entry_point(dispatcher)\n",
    "\n",
    "print(\"Workflow constructed successfully!\")\n",
    "print(\"Graph structure:\")\n",
    "print(\"  Dispatcher → [Average, Sum] → Aggregator\")"
   ]
  },
  {
   "cell_type": "markdown",
   "id": "8fcc8a11",
   "metadata": {},
   "source": [
    "## Run the Workflow\n",
    "\n",
    "Execute the workflow and observe the parallel execution and result aggregation.\n",
    "\n",
    "### Expected Behavior:\n",
    "1. Dispatcher generates 10 random numbers\n",
    "2. Average and Sum executors run **in parallel**\n",
    "3. Aggregator collects both results (float and int)\n",
    "4. Final result contains both values in a type-safe list\n",
    "\n",
    "### Note on Execution Order:\n",
    "- Average and Sum may complete in any order (parallel execution)\n",
    "- Results are always collected in edge definition order (average, sum)\n",
    "- Type information is preserved throughout the pipeline"
   ]
  },
  {
   "cell_type": "code",
   "execution_count": null,
   "id": "028ab02f",
   "metadata": {},
   "outputs": [],
   "source": [
    "# Run the workflow\n",
    "result = await workflow.run()\n",
    "\n",
    "print(\"\\n\" + \"=\"*60)\n",
    "print(\"WORKFLOW EXECUTION COMPLETE\")\n",
    "print(\"=\"*60)\n",
    "print(f\"Final result: {result}\")\n",
    "print(f\"\\nResult breakdown:\")\n",
    "print(f\"  Average (float): {result.results[0]}\")\n",
    "print(f\"  Sum (int): {result.results[1]}\")"
   ]
  },
  {
   "cell_type": "markdown",
   "id": "9a5f3447",
   "metadata": {},
   "source": [
    "## Key Takeaways\n",
    "\n",
    "### Fan-Out Pattern\n",
    "- ✅ Use `add_fan_out_edges()` to dispatch work to multiple executors\n",
    "- ✅ All target executors receive the same input data\n",
    "- ✅ Executors run concurrently for better performance\n",
    "- ✅ Simple API hides complex parallel execution management\n",
    "\n",
    "### Fan-In Pattern\n",
    "- ✅ Use `add_fan_in_edges()` to collect results from parallel executors\n",
    "- ✅ Results are collected as a list in edge definition order\n",
    "- ✅ Supports heterogeneous types with union type annotations\n",
    "- ✅ Framework ensures all parallel tasks complete before fan-in\n",
    "\n",
    "### Type Safety\n",
    "- ✅ Union types (`int | float`) provide compile-time type checking\n",
    "- ✅ Type annotations document expected result types\n",
    "- ✅ Runtime type inspection enables flexible processing\n",
    "\n",
    "### When to Use This Pattern\n",
    "- ✅ Multiple independent computations on the same data\n",
    "- ✅ Parallel processing for performance improvement\n",
    "- ✅ Aggregating results from different task types\n",
    "- ✅ Need type-safe handling of mixed result types\n",
    "\n",
    "### Next Steps\n",
    "- Try adding more parallel executors (e.g., min, max, median)\n",
    "- Experiment with different union type combinations\n",
    "- Add error handling for edge cases (empty lists, etc.)\n",
    "- Explore conditional fan-out based on input data characteristics"
   ]
  }
 ],
 "metadata": {
  "language_info": {
   "name": "python"
  }
 },
 "nbformat": 4,
 "nbformat_minor": 5
}