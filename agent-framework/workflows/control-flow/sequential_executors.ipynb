{
 "cells": [
  {
   "cell_type": "markdown",
   "id": "327569e9",
   "metadata": {},
   "source": [
    "# Sequential Executors - Class-Based Pattern\n",
    "\n",
    "## Overview\n",
    "This notebook demonstrates how to build sequential workflows using **class-based executors** with the Agent Framework. You'll learn how to:\n",
    "- Create custom `Executor` classes with `@handler` methods\n",
    "- Use `WorkflowContext` with type annotations for type-safe message passing\n",
    "- Chain executors sequentially using `add_edge()`\n",
    "- Send intermediate messages with `ctx.send_message()`\n",
    "- Yield final outputs with `ctx.yield_output()`\n",
    "- Observe workflow execution events via streaming\n",
    "\n",
    "## What This Sample Does\n",
    "The workflow performs a simple text transformation pipeline:\n",
    "1. **UpperCaseExecutor** - Converts input text to uppercase and sends it to the next executor\n",
    "2. **ReverseTextExecutor** - Receives the uppercase text, reverses it, and yields the final output\n",
    "\n",
    "**Input:** `\"hello world\"`  \n",
    "**Output:** `\"DLROW OLLEH\"` (uppercase, then reversed)\n",
    "\n",
    "## Key Concepts\n",
    "- **Executor Classes:** Explicit classes inheriting from `Executor` provide clear structure for complex logic\n",
    "- **@handler Decorator:** Marks the method that processes incoming messages\n",
    "- **WorkflowContext[T_Out, T_W_Out]:** Generic types ensure type safety for intermediate (`T_Out`) and final (`T_W_Out`) outputs\n",
    "- **Sequential Chaining:** `add_edge(A, B)` creates a direct path from executor A to B\n",
    "- **Event Streaming:** `run_stream()` provides observability into execution flow"
   ]
  },
  {
   "cell_type": "markdown",
   "id": "a6dda53f",
   "metadata": {},
   "source": [
    "## Step 1: Import Required Libraries\n",
    "Import the Agent Framework components for building and executing workflows."
   ]
  },
  {
   "cell_type": "code",
   "execution_count": null,
   "id": "7cf6f8aa",
   "metadata": {},
   "outputs": [],
   "source": [
    "# Copyright (c) Microsoft. All rights reserved.\n",
    "\n",
    "import asyncio\n",
    "\n",
    "import os\n",
    "from dotenv import load_dotenv\n",
    "from agent_framework import (\n",
    "    Executor,\n",
    "    ExecutorCompletedEvent,\n",
    "    ExecutorInvokedEvent,\n",
    "    WorkflowBuilder,\n",
    "    WorkflowContext,\n",
    "    WorkflowOutputEvent,\n",
    "    handler,\n",
    ")\n",
    "from typing_extensions import Never\n",
    "# Load environment variables from .env file\n",
    "load_dotenv('../../.env')\n"
   ]
  },
  {
   "cell_type": "markdown",
   "id": "bdd72859",
   "metadata": {},
   "source": [
    "## Step 2: Define the UpperCaseExecutor\n",
    "This executor converts input text to uppercase and sends it to the next stage.\n",
    "\n",
    "**Key Points:**\n",
    "- Inherits from `Executor` base class\n",
    "- Uses `@handler` to mark the processing method\n",
    "- `WorkflowContext[str]` indicates this executor outputs `str` to downstream executors\n",
    "- `ctx.send_message()` passes the transformed text to the next executor"
   ]
  },
  {
   "cell_type": "code",
   "execution_count": null,
   "id": "bfdf9924",
   "metadata": {},
   "outputs": [],
   "source": [
    "class UpperCaseExecutor(Executor):\n",
    "    \"\"\"An executor that transforms text to uppercase.\"\"\"\n",
    "\n",
    "    def __init__(self, id: str | None = None):\n",
    "        super().__init__(id=id or \"upper_case_executor\")\n",
    "\n",
    "    @handler\n",
    "    async def to_upper_case(self, text: str, ctx: WorkflowContext[str]) -> None:\n",
    "        \"\"\"Execute the task by converting text to uppercase.\"\"\"\n",
    "        upper_text = text.upper()\n",
    "        await ctx.send_message(upper_text)"
   ]
  },
  {
   "cell_type": "markdown",
   "id": "eb793d48",
   "metadata": {},
   "source": [
    "## Step 3: Define the ReverseTextExecutor\n",
    "This executor reverses the input text and yields the final workflow output.\n",
    "\n",
    "**Key Points:**\n",
    "- `WorkflowContext[Never, str]` means:\n",
    "  - `Never` for intermediate output (doesn't send messages to other executors)\n",
    "  - `str` for final workflow output type\n",
    "- `ctx.yield_output()` marks this as the final result\n",
    "- Terminal executor in the chain"
   ]
  },
  {
   "cell_type": "code",
   "execution_count": null,
   "id": "85127f9c",
   "metadata": {},
   "outputs": [],
   "source": [
    "class ReverseTextExecutor(Executor):\n",
    "    \"\"\"An executor that reverses text.\"\"\"\n",
    "\n",
    "    def __init__(self, id: str | None = None):\n",
    "        super().__init__(id=id or \"reverse_text_executor\")\n",
    "\n",
    "    @handler\n",
    "    async def reverse_text(self, text: str, ctx: WorkflowContext[Never, str]) -> None:\n",
    "        \"\"\"Execute the task by reversing the text.\"\"\"\n",
    "        reversed_text = text[::-1]\n",
    "        await ctx.yield_output(reversed_text)"
   ]
  },
  {
   "cell_type": "markdown",
   "id": "0992b65a",
   "metadata": {},
   "source": [
    "## Step 4: Build the Sequential Workflow\n",
    "Create the workflow graph by connecting executors in sequence.\n",
    "\n",
    "**Workflow Structure:**\n",
    "```\n",
    "Input → UpperCaseExecutor → ReverseTextExecutor → Output\n",
    "```\n",
    "\n",
    "**Key Points:**\n",
    "- `set_start_executor()` defines the entry point\n",
    "- `add_edge(A, B)` creates a direct connection from A to B\n",
    "- Sequential execution is guaranteed by the edge order"
   ]
  },
  {
   "cell_type": "code",
   "execution_count": null,
   "id": "0cc61e91",
   "metadata": {},
   "outputs": [],
   "source": [
    "async def run_workflow():\n",
    "    \"\"\"Build and execute the sequential workflow.\"\"\"\n",
    "    # Step 1: Create the executors\n",
    "    upper_case_executor = UpperCaseExecutor()\n",
    "    reverse_text_executor = ReverseTextExecutor()\n",
    "\n",
    "    # Step 2: Build the workflow with sequential edges\n",
    "    workflow = (\n",
    "        WorkflowBuilder()\n",
    "        .set_start_executor(upper_case_executor)\n",
    "        .add_edge(upper_case_executor, reverse_text_executor)\n",
    "        .build()\n",
    "    )\n",
    "\n",
    "    # Step 3: Run the workflow with streaming and observe events\n",
    "    input_text = \"hello world\"\n",
    "    print(f\"Input: {input_text}\")\n",
    "    print(\"\\n=== Workflow Events ===\")\n",
    "    \n",
    "    async for event in workflow.run_stream(input_text):\n",
    "        if isinstance(event, ExecutorInvokedEvent):\n",
    "            print(f\"▶ Executor Invoked: {event.executor_id}\")\n",
    "        elif isinstance(event, ExecutorCompletedEvent):\n",
    "            print(f\"✓ Executor Completed: {event.executor_id}\")\n",
    "        elif isinstance(event, WorkflowOutputEvent):\n",
    "            print(f\"\\n=== Final Output ===\")\n",
    "            print(f\"Result: {event.data}\")"
   ]
  },
  {
   "cell_type": "markdown",
   "id": "676c1268",
   "metadata": {},
   "source": [
    "## Step 5: Execute the Workflow\n",
    "Run the workflow and observe the event stream."
   ]
  },
  {
   "cell_type": "code",
   "execution_count": null,
   "id": "e3cce082",
   "metadata": {},
   "outputs": [],
   "source": [
    "await run_workflow()"
   ]
  },
  {
   "cell_type": "markdown",
   "id": "0cc0f617",
   "metadata": {},
   "source": [
    "## Expected Output\n",
    "```\n",
    "Input: hello world\n",
    "\n",
    "=== Workflow Events ===\n",
    "▶ Executor Invoked: upper_case_executor\n",
    "✓ Executor Completed: upper_case_executor\n",
    "▶ Executor Invoked: reverse_text_executor\n",
    "✓ Executor Completed: reverse_text_executor\n",
    "\n",
    "=== Final Output ===\n",
    "Result: DLROW OLLEH\n",
    "```\n",
    "\n",
    "## Key Takeaways\n",
    "\n",
    "### Class-Based Executor Pattern\n",
    "✅ **Explicit Structure:** Classes provide clear boundaries for executor logic  \n",
    "✅ **State Management:** Executors can maintain instance variables across invocations  \n",
    "✅ **Type Safety:** `WorkflowContext` generic types enforce correct message types  \n",
    "✅ **Reusability:** Executors can be instantiated multiple times with different configurations\n",
    "\n",
    "### Sequential Execution Flow\n",
    "1. **Input** → UpperCaseExecutor receives `\"hello world\"`\n",
    "2. **Transform** → Converts to `\"HELLO WORLD\"`\n",
    "3. **Send** → `ctx.send_message()` passes to ReverseTextExecutor\n",
    "4. **Transform** → Reverses to `\"DLROW OLLEH\"`\n",
    "5. **Output** → `ctx.yield_output()` completes the workflow\n",
    "\n",
    "### Event Streaming Benefits\n",
    "- **Observability:** Track executor invocations and completions in real-time\n",
    "- **Debugging:** Identify where execution is slow or failing\n",
    "- **Monitoring:** Build production-grade observability into workflows\n",
    "\n",
    "### When to Use Class-Based Executors\n",
    "- Complex logic requiring state management (counters, accumulators)\n",
    "- Executors with initialization parameters\n",
    "- Multiple handler methods or helper functions\n",
    "- Reusable components across different workflows\n",
    "\n",
    "## Next Steps\n",
    "- See `sequential_streaming.ipynb` for the **function-based** alternative using `@executor`\n",
    "- Explore `edge_condition.ipynb` for **conditional routing** patterns\n",
    "- Check `simple_loop.ipynb` to learn about **iterative workflows**"
   ]
  }
 ],
 "metadata": {
  "language_info": {
   "name": "python"
  }
 },
 "nbformat": 4,
 "nbformat_minor": 5
}