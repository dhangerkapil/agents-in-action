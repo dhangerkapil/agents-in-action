{
 "cells": [
  {
   "cell_type": "markdown",
   "id": "2306372e",
   "metadata": {},
   "source": [
    "# Custom Agent Executors (Non-Streaming)\n",
    "\n",
    "## Overview\n",
    "\n",
    "This notebook demonstrates how to create **custom executor classes** that wrap AI agents for workflow integration. This is similar to Step 3 from the start-here folder but focuses on the custom executor pattern.\n",
    "\n",
    "### Workflow:\n",
    "```\n",
    "Writer (custom executor) → Reviewer (custom executor)\n",
    "```\n",
    "\n",
    "### Key Concepts:\n",
    "- **Custom Executor Classes**: Wrapping `ChatAgent` in `Executor` subclasses\n",
    "- **`@handler` Pattern**: Defining workflow behavior with handler methods\n",
    "- **Typed Contexts**: Using `WorkflowContext[T_Out, T_W_Out]` for type safety\n",
    "- **Non-Streaming Execution**: Using `workflow.run()` for complete responses\n",
    "- **Agent Lifecycle Management**: Initializing and managing agents within executors\n",
    "\n",
    "### Prerequisites:\n",
    "- ✅ Azure OpenAI configured\n",
    "- ✅ Azure CLI authentication (`az login`)"
   ]
  },
  {
   "cell_type": "code",
   "execution_count": null,
   "id": "f56611e7",
   "metadata": {},
   "outputs": [],
   "source": [
    "import asyncio\n",
    "\n",
    "import os\n",
    "from dotenv import load_dotenv\n",
    "from agent_framework import (\n",
    "    ChatAgent,\n",
    "    ChatMessage,\n",
    "    Executor,\n",
    "    WorkflowBuilder,\n",
    "    WorkflowContext,\n",
    "    handler,\n",
    ")\n",
    "from agent_framework.azure import AzureOpenAIChatClient\n",
    "from azure.identity import AzureCliCredential\n",
    "# Load environment variables from .env file\n",
    "load_dotenv('../../.env')\n"
   ]
  },
  {
   "cell_type": "markdown",
   "id": "1301dd83",
   "metadata": {},
   "source": [
    "## Define Writer Executor\n",
    "\n",
    "### Custom Executor Pattern\n",
    "\n",
    "This demonstrates:\n",
    "- Creating a reusable executor class\n",
    "- Embedding a `ChatAgent` within the executor\n",
    "- Handler contract: `ChatMessage` → `list[ChatMessage]`"
   ]
  },
  {
   "cell_type": "code",
   "execution_count": null,
   "id": "7e954d46",
   "metadata": {},
   "outputs": [],
   "source": [
    "class Writer(Executor):\n",
    "    \"\"\"Custom executor that owns a domain-specific agent responsible for generating content.\"\"\"\n",
    "\n",
    "    agent: ChatAgent\n",
    "\n",
    "    def __init__(self, chat_client: AzureOpenAIChatClient, id: str = \"writer\"):\n",
    "        # Create a domain-specific agent\n",
    "        self.agent = chat_client.create_agent(\n",
    "            instructions=(\n",
    "                \"You are an excellent content writer. You create new content and edit contents based on the feedback.\"\n",
    "            ),\n",
    "        )\n",
    "        # Associate the agent with this executor node\n",
    "        super().__init__(id=id)\n",
    "\n",
    "    @handler\n",
    "    async def handle(self, message: ChatMessage, ctx: WorkflowContext[list[ChatMessage], str]) -> None:\n",
    "        \"\"\"Generate content using the agent and forward the updated conversation.\"\"\"\n",
    "        # Start the conversation with the incoming user message\n",
    "        messages: list[ChatMessage] = [message]\n",
    "        \n",
    "        # Run the agent and extend the conversation with the agent's messages\n",
    "        response = await self.agent.run(messages)\n",
    "        messages.extend(response.messages)\n",
    "        \n",
    "        # Forward the accumulated messages to the next executor in the workflow\n",
    "        await ctx.send_message(messages)\n",
    "\n",
    "print(\"✅ Writer executor class defined\")"
   ]
  },
  {
   "cell_type": "markdown",
   "id": "52150d96",
   "metadata": {},
   "source": [
    "## Define Reviewer Executor\n",
    "\n",
    "### Terminal Node Pattern\n",
    "\n",
    "The Reviewer is a terminal executor that:\n",
    "- Consumes the full conversation\n",
    "- Yields final output via `ctx.yield_output()`"
   ]
  },
  {
   "cell_type": "code",
   "execution_count": null,
   "id": "e8f75aef",
   "metadata": {},
   "outputs": [],
   "source": [
    "class Reviewer(Executor):\n",
    "    \"\"\"Custom executor that owns a review agent and completes the workflow.\"\"\"\n",
    "\n",
    "    agent: ChatAgent\n",
    "\n",
    "    def __init__(self, chat_client: AzureOpenAIChatClient, id: str = \"reviewer\"):\n",
    "        # Create a domain-specific agent that evaluates and refines content\n",
    "        self.agent = chat_client.create_agent(\n",
    "            instructions=(\n",
    "                \"You are an excellent content reviewer. You review the content and provide feedback to the writer.\"\n",
    "            ),\n",
    "        )\n",
    "        super().__init__(id=id)\n",
    "\n",
    "    @handler\n",
    "    async def handle(self, messages: list[ChatMessage], ctx: WorkflowContext[list[ChatMessage], str]) -> None:\n",
    "        \"\"\"Review the full conversation transcript and complete with a final string.\"\"\"\n",
    "        response = await self.agent.run(messages)\n",
    "        await ctx.yield_output(response.text)\n",
    "\n",
    "print(\"✅ Reviewer executor class defined\")"
   ]
  },
  {
   "cell_type": "code",
   "execution_count": null,
   "id": "7c6b9286",
   "metadata": {},
   "outputs": [],
   "source": [
    "# Create Azure OpenAI chat client\n",
    "endpoint = os.getenv(\"AZURE_OPENAI_ENDPOINT\")\n",
    "deployment_name = os.getenv(\"AZURE_OPENAI_CHAT_DEPLOYMENT_NAME\")\n",
    "chat_client = AzureOpenAIChatClient(\n",
    "    deployment_name=deployment_name,\n",
    "    endpoint=endpoint,\n",
    "    credential=AzureCliCredential()\n",
    ")\n",
    "print(\"✅ Azure OpenAI Chat Client created\")"
   ]
  },
  {
   "cell_type": "code",
   "execution_count": null,
   "id": "519c5ed6",
   "metadata": {},
   "outputs": [],
   "source": [
    "# Instantiate the two agent-backed executors\n",
    "writer = Writer(chat_client)\n",
    "reviewer = Reviewer(chat_client)\n",
    "print(\"✅ Writer and Reviewer instances created\")"
   ]
  },
  {
   "cell_type": "code",
   "execution_count": null,
   "id": "38124f69",
   "metadata": {},
   "outputs": [],
   "source": [
    "# Build the workflow\n",
    "workflow = (\n",
    "    WorkflowBuilder()\n",
    "    .set_start_executor(writer)\n",
    "    .add_edge(writer, reviewer)\n",
    "    .build()\n",
    ")\n",
    "print(\"✅ Workflow built: Writer → Reviewer\")"
   ]
  },
  {
   "cell_type": "code",
   "execution_count": null,
   "id": "1e4391f8",
   "metadata": {},
   "outputs": [],
   "source": [
    "# Run the workflow (non-streaming)\n",
    "user_message = \"Create a slogan for a new electric SUV that is affordable and fun to drive.\"\n",
    "print(f\"\\n📝 User: {user_message}\\n\" + \"=\" * 70)\n",
    "\n",
    "events = await workflow.run(\n",
    "    ChatMessage(role=\"user\", text=user_message)\n",
    ")\n",
    "\n",
    "# Get and print the output\n",
    "outputs = events.get_outputs()\n",
    "if outputs:\n",
    "    print(f\"\\n📤 Final Output:\\n\\n{outputs[-1]}\")\n",
    "\n",
    "print(\"\\n\" + \"=\" * 70 + \"\\n✅ Complete!\")"
   ]
  },
  {
   "cell_type": "markdown",
   "id": "1585eb83",
   "metadata": {},
   "source": [
    "## Key Takeaways\n",
    "\n",
    "### Custom Executor Benefits\n",
    "\n",
    "✅ **Encapsulation**: Agent logic contained within executor class\n",
    "✅ **Reusability**: Executor instances can be used across workflows\n",
    "✅ **State Management**: Can maintain state across handler invocations\n",
    "✅ **Lifecycle Hooks**: Can override initialization and cleanup methods\n",
    "\n",
    "### When to Use Custom Executors vs `add_agent()`\n",
    "\n",
    "**Use Custom Executors When:**\n",
    "- Need complex initialization logic\n",
    "- Require state management across invocations\n",
    "- Want to add validation or preprocessing\n",
    "- Building reusable workflow components\n",
    "\n",
    "**Use `add_agent()` When:**\n",
    "- Simple agent integration\n",
    "- No custom state needed\n",
    "- Quick prototyping\n",
    "- Standard agent behavior is sufficient"
   ]
  }
 ],
 "metadata": {
  "language_info": {
   "name": "python"
  }
 },
 "nbformat": 4,
 "nbformat_minor": 5
}