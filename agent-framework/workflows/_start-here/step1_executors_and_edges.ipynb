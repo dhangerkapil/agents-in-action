{
 "cells": [
  {
   "cell_type": "markdown",
   "id": "eee8c871",
   "metadata": {},
   "source": [
    "# Step 1: Foundational Patterns - Executors and Edges\n",
    "\n",
    "## Overview\n",
    "\n",
    "This notebook demonstrates the foundational concepts of the Agent Framework workflow system:\n",
    "\n",
    "### Key Concepts Covered:\n",
    "\n",
    "1. **Two Ways to Define Executors:**\n",
    "   - Custom class subclassing `Executor` with `@handler` decorated methods\n",
    "   - Standalone async functions decorated with `@executor`\n",
    "\n",
    "2. **Handler Signatures:**\n",
    "   - First parameter: typed input to the node\n",
    "   - Second parameter: `WorkflowContext[T_Out, T_W_Out]`\n",
    "     - `T_Out`: type sent to downstream nodes via `ctx.send_message()`\n",
    "     - `T_W_Out`: type yielded as workflow output via `ctx.yield_output()`\n",
    "\n",
    "3. **Workflow Builder:**\n",
    "   - Fluent API: `add_edge()`, `set_start_executor()`, `build()`\n",
    "   - Connect nodes with directed edges\n",
    "\n",
    "4. **Running Workflows:**\n",
    "   - `workflow.run(initial_input)` executes the graph\n",
    "   - Terminal nodes yield outputs using `ctx.yield_output()`\n",
    "\n",
    "### Prerequisites:\n",
    "- No external services required\n",
    "- Basic understanding of async/await in Python"
   ]
  },
  {
   "cell_type": "markdown",
   "id": "efefe1e0",
   "metadata": {},
   "source": [
    "## Import Required Libraries"
   ]
  },
  {
   "cell_type": "code",
   "execution_count": null,
   "id": "29806891",
   "metadata": {},
   "outputs": [],
   "source": [
    "import os\n",
    "from dotenv import load_dotenv\n",
    "import asyncio\n",
    "\n",
    "from agent_framework import (\n",
    "    Executor,\n",
    "    WorkflowBuilder,\n",
    "    WorkflowContext,\n",
    "    executor,\n",
    "    handler,\n",
    ")\n",
    "from typing_extensions import Never\n",
    "\n",
    "load_dotenv('../../.env')\n",
    "\n",
    "endpoint = os.getenv(\"AZURE_OPENAI_ENDPOINT\")\n",
    "deployment_name = os.getenv(\"AZURE_OPENAI_CHAT_DEPLOYMENT_NAME\")\n"
   ]
  },
  {
   "cell_type": "markdown",
   "id": "36b6a31b",
   "metadata": {},
   "source": [
    "## Example 1: Custom Executor Subclass\n",
    "\n",
    "### UpperCase Executor\n",
    "\n",
    "Subclassing `Executor` allows you to define a named node with lifecycle hooks if needed. The work is implemented in an async method decorated with `@handler`.\n",
    "\n",
    "**Handler Signature Contract:**\n",
    "- **First parameter**: Typed input to this node (here: `text: str`)\n",
    "- **Second parameter**: `WorkflowContext[T_Out]` where `T_Out` is the type emitted via `ctx.send_message()`\n",
    "\n",
    "**Typical Handler Flow:**\n",
    "1. Compute a result\n",
    "2. Forward result to downstream nodes using `ctx.send_message(result)`"
   ]
  },
  {
   "cell_type": "code",
   "execution_count": 2,
   "id": "8d99f258",
   "metadata": {},
   "outputs": [],
   "source": [
    "class UpperCase(Executor):\n",
    "    def __init__(self, id: str):\n",
    "        super().__init__(id=id)\n",
    "\n",
    "    @handler\n",
    "    async def to_upper_case(self, text: str, ctx: WorkflowContext[str]) -> None:\n",
    "        \"\"\"Convert the input to uppercase and forward it to the next node.\n",
    "\n",
    "        Note: The WorkflowContext is parameterized with the type this handler will\n",
    "        emit. Here WorkflowContext[str] means downstream nodes should expect str.\n",
    "        \"\"\"\n",
    "        result = text.upper()\n",
    "\n",
    "        # Send the result to the next executor in the workflow.\n",
    "        await ctx.send_message(result)"
   ]
  },
  {
   "cell_type": "markdown",
   "id": "51669260",
   "metadata": {},
   "source": [
    "## Example 2: Standalone Function-Based Executor\n",
    "\n",
    "### ReverseText Executor\n",
    "\n",
    "For simple steps, you can skip subclassing and define an async function with the same signature pattern, decorated with `@executor`.\n",
    "\n",
    "**WorkflowContext Parameters:**\n",
    "- `T_Out = Never`: This node does NOT send messages to downstream nodes\n",
    "- `T_W_Out = str`: This node yields workflow output of type `str`\n",
    "\n",
    "This is a **terminal node** that yields the final output using `ctx.yield_output()`."
   ]
  },
  {
   "cell_type": "code",
   "execution_count": 3,
   "id": "c5d958de",
   "metadata": {},
   "outputs": [],
   "source": [
    "@executor(id=\"reverse_text_executor\")\n",
    "async def reverse_text(text: str, ctx: WorkflowContext[Never, str]) -> None:\n",
    "    \"\"\"Reverse the input string and yield the workflow output.\n",
    "\n",
    "    This node yields the final output using ctx.yield_output(result).\n",
    "    The workflow will complete when it becomes idle (no more work to do).\n",
    "\n",
    "    The WorkflowContext is parameterized with two types:\n",
    "    - T_Out = Never: this node does not send messages to downstream nodes.\n",
    "    - T_W_Out = str: this node yields workflow output of type str.\n",
    "    \"\"\"\n",
    "    result = text[::-1]\n",
    "\n",
    "    # Yield the output - the workflow will complete when idle\n",
    "    await ctx.yield_output(result)"
   ]
  },
  {
   "cell_type": "markdown",
   "id": "8b81f62f",
   "metadata": {},
   "source": [
    "## Build and Run the Workflow\n",
    "\n",
    "### Workflow Construction\n",
    "\n",
    "Using the fluent `WorkflowBuilder` API:\n",
    "1. `add_edge(from_node, to_node)` - defines directed edge: upper_case → reverse_text\n",
    "2. `set_start_executor(node)` - declares the entry point\n",
    "3. `build()` - finalizes and returns an immutable Workflow object"
   ]
  },
  {
   "cell_type": "code",
   "execution_count": 4,
   "id": "7884de4b",
   "metadata": {},
   "outputs": [
    {
     "name": "stdout",
     "output_type": "stream",
     "text": [
      "✅ Workflow built successfully!\n"
     ]
    }
   ],
   "source": [
    "# Create executor instances\n",
    "upper_case = UpperCase(id=\"upper_case_executor\")\n",
    "\n",
    "# Build the workflow using fluent pattern\n",
    "workflow = (\n",
    "    WorkflowBuilder()\n",
    "    .add_edge(upper_case, reverse_text)\n",
    "    .set_start_executor(upper_case)\n",
    "    .build()\n",
    ")\n",
    "\n",
    "print(\"✅ Workflow built successfully!\")"
   ]
  },
  {
   "cell_type": "markdown",
   "id": "f2f69318",
   "metadata": {},
   "source": [
    "## Execute the Workflow\n",
    "\n",
    "### Running the Workflow\n",
    "\n",
    "- `workflow.run(initial_input)` - executes the graph with initial input\n",
    "- Returns an event collection\n",
    "- `get_outputs()` - retrieves outputs yielded by terminal nodes\n",
    "- `get_final_state()` - shows the final workflow state"
   ]
  },
  {
   "cell_type": "code",
   "execution_count": 5,
   "id": "e265a4ff",
   "metadata": {},
   "outputs": [
    {
     "name": "stdout",
     "output_type": "stream",
     "text": [
      "\n",
      "📤 Workflow Outputs:\n",
      "['DLROW OLLEH']\n",
      "\n",
      "✅ Final state: WorkflowRunState.IDLE\n"
     ]
    }
   ],
   "source": [
    "# Run the workflow\n",
    "events = await workflow.run(\"hello world\")\n",
    "\n",
    "# Get the outputs\n",
    "outputs = events.get_outputs()\n",
    "print(\"\\n📤 Workflow Outputs:\")\n",
    "print(outputs)\n",
    "\n",
    "# Get final state\n",
    "final_state = events.get_final_state()\n",
    "print(f\"\\n✅ Final state: {final_state}\")"
   ]
  },
  {
   "cell_type": "markdown",
   "id": "d85618e4",
   "metadata": {},
   "source": [
    "## Expected Output\n",
    "\n",
    "```\n",
    "['DLROW OLLEH']\n",
    "Final state: WorkflowRunState.COMPLETED\n",
    "```\n",
    "\n",
    "### How It Works:\n",
    "\n",
    "1. **Input**: `\"hello world\"`\n",
    "2. **UpperCase Executor**: Converts to `\"HELLO WORLD\"` and sends to next node\n",
    "3. **ReverseText Executor**: Reverses to `\"DLROW OLLEH\"` and yields as output\n",
    "4. **Workflow completes** when all nodes are idle"
   ]
  },
  {
   "cell_type": "markdown",
   "id": "1b20f201",
   "metadata": {},
   "source": [
    "## Key Takeaways\n",
    "\n",
    "### Executor Patterns\n",
    "\n",
    "✅ **Custom Class Executor** (UpperCase)\n",
    "- Use when you need lifecycle hooks or complex state management\n",
    "- Subclass `Executor` and use `@handler` decorator\n",
    "- Best for reusable, stateful components\n",
    "\n",
    "✅ **Function-Based Executor** (reverse_text)\n",
    "- Use for simple, stateless transformations\n",
    "- Just decorate with `@executor(id=\"...\")`\n",
    "- More concise for simple operations\n",
    "\n",
    "### WorkflowContext Types\n",
    "\n",
    "- `WorkflowContext[str]` - sends `str` to downstream nodes\n",
    "- `WorkflowContext[Never, str]` - yields `str` as workflow output (terminal node)\n",
    "- `WorkflowContext` - neither sends nor yields (equivalent to `WorkflowContext[Never, Never]`)\n",
    "\n",
    "### Workflow Building\n",
    "\n",
    "1. Create executor instances\n",
    "2. Use `WorkflowBuilder()` fluent API\n",
    "3. Connect with `add_edge(from, to)`\n",
    "4. Set entry point with `set_start_executor()`\n",
    "5. Finalize with `build()`\n",
    "\n",
    "### Next Steps\n",
    "\n",
    "Continue to **Step 2** to learn how to integrate AI agents into workflows!"
   ]
  }
 ],
 "metadata": {
  "kernelspec": {
   "display_name": ".venv",
   "language": "python",
   "name": "python3"
  },
  "language_info": {
   "codemirror_mode": {
    "name": "ipython",
    "version": 3
   },
   "file_extension": ".py",
   "mimetype": "text/x-python",
   "name": "python",
   "nbconvert_exporter": "python",
   "pygments_lexer": "ipython3",
   "version": "3.12.10"
  }
 },
 "nbformat": 4,
 "nbformat_minor": 5
}