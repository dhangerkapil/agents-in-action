{
  "cells": [
    {
      "cell_type": "markdown",
      "metadata": {},
      "source": [
        "# Azure AI Context Providers for Agent Memory\n",
        "\n",
        "This notebook shows how to design and compose context providers when building Azure AI Agents with the Agent Framework.\n",
        "\n",
        "> Based on the [Agent Memory documentation](https://learn.microsoft.com/en-us/agent-framework/user-guide/agents/agent-memory?pivots=programming-language-python).\n"
      ]
    },
    {
      "cell_type": "markdown",
      "metadata": {},
      "source": [
        "## Prerequisites\n",
        "\n",
        "- Azure CLI login (`az login`) with access to the Azure AI Foundry project\n",
        "- Environment variables configured in `../.env` (`AZURE_AI_PROJECT_ENDPOINT`, `AZURE_AI_MODEL_DEPLOYMENT_NAME`, optional `TENANT_ID`)\n",
        "- Python packages: `agent-framework`, `agent-framework-azure-ai`, `python-dotenv`, `azure-identity`\n",
        "- Python 3.10+ kernel for running the notebook\n"
      ]
    },
    {
      "cell_type": "markdown",
      "metadata": {},
      "source": [
        "## Imports and configuration\n",
        "\n",
        "We start by loading environment variables and validating that the Azure AI settings are available. These values are shared with the other Azure AI notebooks in this repository.\n"
      ]
    },
    {
      "cell_type": "code",
      "execution_count": 25,
      "metadata": {},
      "outputs": [],
      "source": [
        "import asyncio\n",
        "import os\n",
        "import re\n",
        "from collections import defaultdict\n",
        "from dataclasses import dataclass, field\n",
        "from typing import Iterable, MutableSequence, Sequence\n",
        "\n",
        "from dotenv import load_dotenv\n",
        "\n",
        "from agent_framework import AggregateContextProvider, ChatAgent, ChatMessage, Context, ContextProvider\n",
        "from agent_framework.azure import AzureAIAgentClient\n",
        "from azure.identity.aio import AzureCliCredential\n"
      ]
    },
    {
      "cell_type": "code",
      "execution_count": 26,
      "metadata": {},
      "outputs": [
        {
          "name": "stdout",
          "output_type": "stream",
          "text": [
            "AZURE_AI_PROJECT_ENDPOINT: https://kd-foundry-project-resource.services.ai.azure.com/api/projects/kd-foundry-project\n",
            "AZURE_AI_MODEL_DEPLOYMENT_NAME: gpt-4o\n"
          ]
        }
      ],
      "source": [
        "# Load environment variables shared across the project\n",
        "load_dotenv('../.env')\n",
        "\n",
        "required_vars = [\n",
        "    'AZURE_AI_PROJECT_ENDPOINT',\n",
        "    'AZURE_AI_MODEL_DEPLOYMENT_NAME',\n",
        "]\n",
        "\n",
        "missing = [var for var in required_vars if not os.getenv(var)]\n",
        "if missing:\n",
        "    raise RuntimeError(f'Missing required environment variables: {missing}')\n",
        "\n",
        "endpoint = os.getenv('AZURE_AI_PROJECT_ENDPOINT')\n",
        "deployment = os.getenv('AZURE_AI_MODEL_DEPLOYMENT_NAME')\n",
        "\n",
        "print('AZURE_AI_PROJECT_ENDPOINT:', endpoint)\n",
        "print('AZURE_AI_MODEL_DEPLOYMENT_NAME:', deployment)\n"
      ]
    },
    {
      "cell_type": "markdown",
      "metadata": {},
      "source": [
        "## How context providers work\n",
        "\n",
        "`ContextProvider` instances observe the chat lifecycle:\n",
        "\n",
        "- `thread_created` triggers when a new thread is initialised.\n",
        "- `invoking` runs before each Azure AI invocation and can contribute instructions, messages, or tools.\n",
        "- `invoked` runs after the invocation and can be used to store new information.\n",
        "\n",
        "Multiple providers can be combined using `AggregateContextProvider`. The Agent Framework merges the resulting `Context` objects and sends them to Azure AI Foundry as part of the request payload.\n"
      ]
    },
    {
      "cell_type": "markdown",
      "metadata": {},
      "source": [
        "## In-memory fact store\n",
        "\n",
        "We use a simple in-memory store so that the notebook stays self-contained. For production workloads replace this with durable storage such as Azure Cosmos DB, Azure Table Storage, or Azure Cache for Redis.\n"
      ]
    },
    {
      "cell_type": "code",
      "execution_count": 27,
      "metadata": {},
      "outputs": [],
      "source": [
        "@dataclass\n",
        "class FactStore:\n",
        "    facts: defaultdict[str, set[str]] = field(default_factory=lambda: defaultdict(set))\n",
        "\n",
        "    def load(self, user_id: str) -> list[str]:\n",
        "        # Return sorted facts for deterministic output.\n",
        "        return sorted(self.facts[user_id])\n",
        "\n",
        "    def add(self, user_id: str, new_facts: Iterable[str]) -> None:\n",
        "        bucket = self.facts[user_id]\n",
        "        for item in new_facts:\n",
        "            cleaned = item.strip()\n",
        "            if cleaned:\n",
        "                bucket.add(cleaned)\n",
        "\n",
        "    def clear(self, user_id: str) -> None:\n",
        "        self.facts.pop(user_id, None)\n"
      ]
    },
    {
      "cell_type": "markdown",
      "metadata": {},
      "source": [
        "## User fact context provider\n",
        "\n",
        "The provider listens to user utterances for preference statements and converts them into memories that will be appended to each request as additional instructions. This mirrors the custom memory providers described in the documentation, but uses Azure AI Foundry for execution.\n"
      ]
    },
    {
      "cell_type": "code",
      "execution_count": 28,
      "metadata": {},
      "outputs": [],
      "source": [
        "class UserFactContextProvider(ContextProvider):\n",
        "    def __init__(self, user_id: str, store: FactStore, max_facts: int = 8) -> None:\n",
        "        self.user_id = user_id\n",
        "        self.store = store\n",
        "        self.max_facts = max_facts\n",
        "        self.cached_facts: list[str] = []\n",
        "        self._patterns = [\n",
        "            re.compile(r\"\\bmy name is (?P<value>[A-Za-z\\s]{2,60})\", re.IGNORECASE),\n",
        "            re.compile(r\"\\bi live in (?P<value>[A-Za-z\\s,]{2,80})\", re.IGNORECASE),\n",
        "            re.compile(r\"\\bmy favourite (?P<topic>\\w+) is (?P<value>[A-Za-z0-9\\s,\\-']{2,80})\", re.IGNORECASE),\n",
        "            re.compile(r\"\\bmy favorite (?P<topic>\\w+) is (?P<value>[A-Za-z0-9\\s,\\-']{2,80})\", re.IGNORECASE),\n",
        "            re.compile(r\"\\bi work as (?P<value>[A-Za-z0-9\\s,\\-']{2,80})\", re.IGNORECASE),\n",
        "        ]\n",
        "\n",
        "    async def __aenter__(self) -> \"UserFactContextProvider\":\n",
        "        await super().__aenter__()\n",
        "        self.cached_facts = self.store.load(self.user_id)[-self.max_facts :]\n",
        "        return self\n",
        "\n",
        "    async def thread_created(self, thread_id: str | None) -> None:\n",
        "        self.cached_facts = self.store.load(self.user_id)[-self.max_facts :]\n",
        "\n",
        "    async def invoking(self, messages: ChatMessage | MutableSequence[ChatMessage], **kwargs) -> Context:\n",
        "        if not self.cached_facts:\n",
        "            return Context()\n",
        "        recent_facts = self.cached_facts[-self.max_facts :]\n",
        "        bullet_list = \"\\n\".join(f\"- {item}\" for item in recent_facts)\n",
        "        instructions = f\"User information:\\n{bullet_list}\\n\"\n",
        "        return Context(instructions=instructions)\n",
        "\n",
        "    async def invoked(\n",
        "        self,\n",
        "        request_messages: ChatMessage | Sequence[ChatMessage],\n",
        "        response_messages: ChatMessage | Sequence[ChatMessage] | None = None,\n",
        "        invoke_exception: Exception | None = None,\n",
        "        **kwargs,\n",
        "    ) -> None:\n",
        "        if invoke_exception is not None:\n",
        "            return\n",
        "        collected: list[str] = []\n",
        "        for message in self._ensure_sequence(request_messages):\n",
        "            if getattr(message.role, \"value\", \"\") != \"user\":\n",
        "                continue\n",
        "            collected.extend(self._extract_facts(message.text))\n",
        "        if not collected:\n",
        "            return\n",
        "        self.store.add(self.user_id, collected)\n",
        "        self.cached_facts = self.store.load(self.user_id)[-self.max_facts :]\n",
        "\n",
        "    def _ensure_sequence(\n",
        "        self,\n",
        "        messages: ChatMessage | Sequence[ChatMessage],\n",
        "    ) -> list[ChatMessage]:\n",
        "        if isinstance(messages, Sequence):\n",
        "            return list(messages)\n",
        "        return [messages]\n",
        "\n",
        "    def _extract_facts(self, text: str | None) -> list[str]:\n",
        "        if not text:\n",
        "            return []\n",
        "        facts: list[str] = []\n",
        "        for pattern in self._patterns:\n",
        "            match = pattern.search(text)\n",
        "            if not match:\n",
        "                continue\n",
        "            groups = match.groupdict()\n",
        "            if \"topic\" in groups:\n",
        "                topic = groups[\"topic\"].strip()\n",
        "                value = groups[\"value\"].strip()\n",
        "                facts.append(f\"User's {topic} is {value}\")\n",
        "            else:\n",
        "                value = groups[\"value\"].strip()\n",
        "                if \"name is\" in pattern.pattern:\n",
        "                    facts.append(f\"User name is {value}\")\n",
        "                elif \"live in\" in pattern.pattern:\n",
        "                    facts.append(f\"User lives in {value}\")\n",
        "                else:\n",
        "                    facts.append(value)\n",
        "        marker = \"remember that\"\n",
        "        lowered = text.lower()\n",
        "        idx = lowered.find(marker)\n",
        "        if idx != -1:\n",
        "            statement = text[idx + len(marker):].strip(' .!')\n",
        "            if statement:\n",
        "                facts.append(statement[0].upper() + statement[1:])\n",
        "        unique: list[str] = []\n",
        "        seen: set[str] = set()\n",
        "        for fact in facts:\n",
        "            normalised = fact.strip()\n",
        "            if not normalised:\n",
        "                continue\n",
        "            key = normalised.lower()\n",
        "            if key in seen:\n",
        "                continue\n",
        "            seen.add(key)\n",
        "            unique.append(normalised)\n",
        "        return unique\n"
      ]
    },
    {
      "cell_type": "markdown",
      "metadata": {},
      "source": [
        "## Tone helper context provider\n",
        "\n",
        "A lightweight provider that keeps responses aligned with a specific brand tone. Because context providers are composable, we can layer stylistic instructions with memory-driven instructions.\n"
      ]
    },
    {
      "cell_type": "code",
      "execution_count": 29,
      "metadata": {},
      "outputs": [],
      "source": [
        "class ToneContextProvider(ContextProvider):\n",
        "    def __init__(self, instructions: str) -> None:\n",
        "        self._instructions = instructions.strip() + \"\\n\"\n",
        "\n",
        "    async def invoking(self, messages: ChatMessage | MutableSequence[ChatMessage], **kwargs) -> Context:\n",
        "        return Context(instructions=self._instructions)"
      ]
    },
    {
      "cell_type": "markdown",
      "metadata": {},
      "source": [
        "## Compose providers and run an Azure AI agent\n",
        "\n",
        "We combine the tone helper with the fact collector and interact with an Azure AI Agent backed by Azure AI Foundry. The authentication flow matches the other Azure AI notebooks in this repository, relying on the Azure CLI credential.\n",
        "\n",
        "**Important**: We use a single `thread` object for all conversation turns. This ensures the agent maintains chat history across turns, allowing for a natural conversation flow.\n"
      ]
    },
    {
      "cell_type": "code",
      "execution_count": 30,
      "metadata": {},
      "outputs": [],
      "source": [
        "async def run_demo() -> None:\n",
        "    user_id = \"workshop-user\"\n",
        "    store = FactStore()\n",
        "\n",
        "    providers = AggregateContextProvider([\n",
        "        ToneContextProvider(\n",
        "            instructions=(\n",
        "                \"## Response Style\\nUse a professional yet friendly tone. If memories are supplied, weave them naturally into the answer.\"\n",
        "            )\n",
        "        ),\n",
        "        UserFactContextProvider(user_id=user_id, store=store),\n",
        "    ])\n",
        "\n",
        "    async with (\n",
        "        AzureCliCredential() as credential,\n",
        "        ChatAgent(\n",
        "            chat_client=AzureAIAgentClient(async_credential=credential),\n",
        "            instructions=\"You are an Azure AI travel planner that personalises suggestions.\",\n",
        "            context_providers=providers,\n",
        "        ) as agent,\n",
        "    ):\n",
        "        # Create a single thread for the entire conversation\n",
        "        thread = agent.get_new_thread()\n",
        "        \n",
        "        prompts = [\n",
        "            \"Hi, my name is Alex and I live in Berlin. I love museum hopping on weekends.\",\n",
        "            \"Please remember that I am planning a trip to Seattle next month.\",\n",
        "            \"I prefer boutique hotels near art districts.\",\n",
        "            \"Can you suggest a weekend plan that includes something I would enjoy?\",\n",
        "        ]\n",
        "        for turn, prompt in enumerate(prompts, start=1):\n",
        "            print(f\"Turn {turn} - user: {prompt}\")\n",
        "            response = await agent.run(prompt, thread=thread)\n",
        "            text = getattr(response, \"text\", str(response))\n",
        "            print(f\"Turn {turn} - agent: {text}\\n\")\n",
        "\n",
        "    print(\"Stored facts after the run:\")\n",
        "    for fact in store.load(user_id):\n",
        "        print(f\"- {fact}\")\n"
      ]
    },
    {
      "cell_type": "markdown",
      "metadata": {},
      "source": [
        "### Run the demo conversation\n",
        "\n",
        "Execute the async helper to see the context providers capture and reuse memories. \n",
        "\n",
        "**Important**: Make sure you are logged in to Azure CLI first by running in your terminal:\n",
        "```bash\n",
        "az login --use-device-code\n",
        "```\n",
        "\n",
        "If you get authentication errors, try clearing and re-logging:\n",
        "```bash\n",
        "az account clear\n",
        "az login --use-device-code\n",
        "```"
      ]
    },
    {
      "cell_type": "code",
      "execution_count": 31,
      "metadata": {},
      "outputs": [
        {
          "name": "stdout",
          "output_type": "stream",
          "text": [
            "Turn 1 - user: Hi, my name is Alex and I live in Berlin. I love museum hopping on weekends.\n"
          ]
        },
        {
          "name": "stderr",
          "output_type": "stream",
          "text": [
            "[2025-10-25 10:31:40 - c:\\Users\\kapildhanger\\OneDrive - Microsoft\\Microsoft_Kapil\\AzureCustomers\\Everest\\NYC_Workshop\\ai-foundry-e2e-lab\\.venv\\Lib\\site-packages\\agent_framework\\_clients.py:609 - WARNING] When conversation_id is set, store must be True for service-managed threads. Automatically setting store=True.\n"
          ]
        },
        {
          "name": "stdout",
          "output_type": "stream",
          "text": [
            "Turn 1 - agent: Hello Alex! Living in Berlin, you’re surrounded by some of the world's most iconic museums—what an incredible city for someone who loves cultural pursuits like yourself. Let me offer a few great ideas to enrich your museum-hop weekends:  \n",
            "\n",
            "### Berlin’s Must-Sees for Museum Lovers:\n",
            "1. **Museum Island (Museumsinsel):** If you haven’t already explored this UNESCO World Heritage Site thoroughly, it’s a must! From the Pergamon Museum to the Alte Nationalgalerie, each offers something unique—from reconstructed ancient temples to breathtaking art collections. Plan to take your time—perhaps dedicating a day to explore one or two museums at depth.\n",
            "\n",
            "2. **Hamburger Bahnhof:** Dive into the contemporary art scene at this museum housed in a former railway station. It's a favorite for modern and experimental art lovers.\n",
            "\n",
            "3. **Berlinische Galerie:** Perfect for discovering Berlin’s avant-garde movements. A mix of visual art, photography, and architecture that speaks to Berlin's creative identity.\n",
            "\n",
            "4. **Jewish Museum:** Much more than its exhibits, this museum is an architectural wonder designed by Daniel Libeskind. Its thoughtful displays make for an immersive and emotive experience.\n",
            "\n",
            "---\n",
            "\n",
            "Want to mix things up? Plan a weekend getaway or cultural day trip:\n",
            "- **Dresden:** Just two hours by train, Dresden boasts the royal collections at the Zwinger Palace and the Albertinum Gallery. It’s a perfect day trip for art aficionados like yourself.  \n",
            "- **Leipzig:** Known for its thriving art community, explore the Museum der Bildenden Künste or perhaps check out Spinnerei, a converted cotton mill that's now a hub for contemporary art.\n",
            "\n",
            "If you're looking for something new in Berlin or anywhere nearby, let me know, and I can tailor more tips for your weekends!\n",
            "\n",
            "Turn 2 - user: Please remember that I am planning a trip to Seattle next month.\n"
          ]
        },
        {
          "name": "stderr",
          "output_type": "stream",
          "text": [
            "[2025-10-25 10:31:42 - c:\\Users\\kapildhanger\\OneDrive - Microsoft\\Microsoft_Kapil\\AzureCustomers\\Everest\\NYC_Workshop\\ai-foundry-e2e-lab\\.venv\\Lib\\site-packages\\agent_framework\\_clients.py:609 - WARNING] When conversation_id is set, store must be True for service-managed threads. Automatically setting store=True.\n"
          ]
        },
        {
          "name": "stdout",
          "output_type": "stream",
          "text": [
            "Turn 2 - agent: Got it, Alex! I’ll keep your upcoming trip to Seattle in mind while planning suggestions tailored to your love of museums and art. Seattle has a vibrant cultural scene that's sure to delight you. Let me know if you'd like me to start crafting an itinerary for your trip!\n",
            "\n",
            "Turn 3 - user: I prefer boutique hotels near art districts.\n"
          ]
        },
        {
          "name": "stderr",
          "output_type": "stream",
          "text": [
            "[2025-10-25 10:31:49 - c:\\Users\\kapildhanger\\OneDrive - Microsoft\\Microsoft_Kapil\\AzureCustomers\\Everest\\NYC_Workshop\\ai-foundry-e2e-lab\\.venv\\Lib\\site-packages\\agent_framework\\_clients.py:609 - WARNING] When conversation_id is set, store must be True for service-managed threads. Automatically setting store=True.\n"
          ]
        },
        {
          "name": "stdout",
          "output_type": "stream",
          "text": [
            "Turn 3 - agent: Great to know, Alex! Boutique hotels near Seattle’s art districts will perfectly complement your passion for museums. The city has some fantastic options that combine charm, stylish vibes, and convenient locations close to cultural hotspots. Here are some tailored recommendations for your trip:\n",
            "\n",
            "---\n",
            "\n",
            "### **Boutique Hotel Suggestions**\n",
            "1. **Hotel Ändra**  \n",
            "   - Location: Belltown District  \n",
            "   - Why You’ll Love It: This chic, Scandinavian-inspired hotel is set right in one of Seattle’s trendiest areas. You’ll be steps away from fine restaurants, quirky galleries, and a vibrant nightlife scene. Plus, it’s a short walk to the Seattle Art Museum (SAM) downtown.  \n",
            "\n",
            "2. **The Ace Hotel**  \n",
            "   - Location: Belltown  \n",
            "   - Why You’ll Love It: A bohemian option with unique, art-filled decor in every room, this boutique gem aligns beautifully with the creative sensibilities of the area. It fits perfectly with your love for art and cultural immersion.  \n",
            "\n",
            "3. **The Palihotel Seattle**  \n",
            "   - Location: Pike Place Market  \n",
            "   - Why You’ll Love It: Located right by the iconic market, this hotel blends vintage charm with modern touches. The area offers more than fresh seafood—it’s surrounded by murals, street art, and quirky independent shops.  \n",
            "\n",
            "4. **Hotel Ballard**  \n",
            "   - Location: Ballard Historic District  \n",
            "   - Why You’ll Love It: Tucked away from the hustle and bustle of downtown, this upscale boutique hotel is located near Ballard’s thriving arts scene. Explore local galleries, artisan stores, and discover stunning waterfront views.  \n",
            "\n",
            "---\n",
            "\n",
            "### **Art & Culture Districts to Explore**\n",
            "- **Pioneer Square:** Home to both historic charm and contemporary art, Pioneer Square is a hub of galleries, including the Foster/White and Davidson Galleries, and features monthly First Thursday Art Walks.  \n",
            "\n",
            "- **Capitol Hill:** A lively neighborhood known for its indie vibe, it’s filled with street art, creative boutiques, and experimental art spaces.  \n",
            "\n",
            "- **Seattle Center:** Nearby, you’ll find the Chihuly Garden and Glass exhibition—a must-see for any art lover—as well as the Museum of Pop Culture (MoPOP), with its striking architectural design by Frank Gehry.  \n",
            "\n",
            "---\n",
            "\n",
            "Want me to help map out an itinerary that balances museum visits with local art district exploration? Let me know! I’d be happy to refine this further.\n",
            "\n",
            "Turn 4 - user: Can you suggest a weekend plan that includes something I would enjoy?\n",
            "Turn 4 - agent: Certainly, Alex! With your love for museum hopping and boutique accommodations, here’s a personalized 2-day weekend itinerary for Seattle that incorporates art, culture, and charming experiences tailored to your interests.\n",
            "\n",
            "---\n",
            "\n",
            "### **Day 1: Exploring Downtown's Cultural Gems**\n",
            "**Morning**  \n",
            "- **Breakfast:** Start your day with a fresh and local breakfast at **Tilikum Place Café**, known for their Dutch pancakes and cozy atmosphere, just a short walk from the arts-minded Belltown district.  \n",
            "- **Seattle Art Museum (SAM):** Spend your morning exploring SAM, the city's premier art museum. Highlights include its world-class modern and Indigenous art collections. Be sure not to miss \"Hammering Man,\" the iconic sculpture right outside.\n",
            "\n",
            "**Afternoon**  \n",
            "- **Lunch:** Dine at **The Pink Door**, an Italian-inspired restaurant tucked away behind an unassuming entry near Pike Place Market.  \n",
            "- **Pioneer Square:** Head to Seattle’s oldest neighborhood, where you can stroll through a mix of historic architecture and modern galleries. Check out **Foster/White Gallery** for contemporary works or **Glasshouse Studio** to watch glassblowers create stunning pieces in real-time.  \n",
            "- As you're here, explore the **Klondike Gold Rush National Historical Park Museum** for something unique—a glimpse into Seattle’s early frontier history.  \n",
            "\n",
            "**Evening**  \n",
            "- **Dinner:** Enjoy a fusion menu at **Shiro’s Sushi** in Belltown for some of the city's best sushi.  \n",
            "- Wrap up the day with a short walk on **Seattle Waterfront** at sunset—it’s a picturesque area with lovely views of Puget Sound and art installations scattered throughout.\n",
            "\n",
            "---\n",
            "\n",
            "### **Day 2: Capitol Hill and Chihuly Glass Magic**\n",
            "**Morning**  \n",
            "- **Breakfast:** Kick off your day with coffee and baked delights at **The Wandering Goose**, a charming café on Capitol Hill.  \n",
            "- **Capitol Hill:** Explore this artsy neighborhood known for exceptional murals and street art! Visit **Elliott Bay Book Company** for a treasure trove of curated books amidst a creative, bohemian vibe.  \n",
            "\n",
            "**Afternoon**  \n",
            "- **Lunch:** Stop at **Plum Bistro**, a renowned vegan restaurant that’s part of Capitol Hill’s creative scene.  \n",
            "- **Chihuly Garden and Glass Exhibit:** Marvel at the colorful, intricate glass installations in this iconic museum, located in the Seattle Center. It’s the perfect destination for an art lover like yourself! You’ll get to see how Dale Chihuly blends glass with nature to create dazzling works of art.  \n",
            "- **Space Needle:** Right next door, ascend to the top of this famous landmark to enjoy panoramic views.  \n",
            "\n",
            "**Evening**  \n",
            "- **Dinner:** Treat yourself to modern Pacific Northwest cuisine at **Canlis**, an upscale, artfully designed restaurant with spectacular views of Lake Union—a lovely way to end your trip.  \n",
            "- If you're up for it, catch live music or an indie performance at **The Triple Door** for that unique Seattle vibe.\n",
            "\n",
            "---\n",
            "\n",
            "What do you think of this itinerary? I can refine it further based on your preferences.\n",
            "\n",
            "Turn 4 - agent: Certainly, Alex! With your love for museum hopping and boutique accommodations, here’s a personalized 2-day weekend itinerary for Seattle that incorporates art, culture, and charming experiences tailored to your interests.\n",
            "\n",
            "---\n",
            "\n",
            "### **Day 1: Exploring Downtown's Cultural Gems**\n",
            "**Morning**  \n",
            "- **Breakfast:** Start your day with a fresh and local breakfast at **Tilikum Place Café**, known for their Dutch pancakes and cozy atmosphere, just a short walk from the arts-minded Belltown district.  \n",
            "- **Seattle Art Museum (SAM):** Spend your morning exploring SAM, the city's premier art museum. Highlights include its world-class modern and Indigenous art collections. Be sure not to miss \"Hammering Man,\" the iconic sculpture right outside.\n",
            "\n",
            "**Afternoon**  \n",
            "- **Lunch:** Dine at **The Pink Door**, an Italian-inspired restaurant tucked away behind an unassuming entry near Pike Place Market.  \n",
            "- **Pioneer Square:** Head to Seattle’s oldest neighborhood, where you can stroll through a mix of historic architecture and modern galleries. Check out **Foster/White Gallery** for contemporary works or **Glasshouse Studio** to watch glassblowers create stunning pieces in real-time.  \n",
            "- As you're here, explore the **Klondike Gold Rush National Historical Park Museum** for something unique—a glimpse into Seattle’s early frontier history.  \n",
            "\n",
            "**Evening**  \n",
            "- **Dinner:** Enjoy a fusion menu at **Shiro’s Sushi** in Belltown for some of the city's best sushi.  \n",
            "- Wrap up the day with a short walk on **Seattle Waterfront** at sunset—it’s a picturesque area with lovely views of Puget Sound and art installations scattered throughout.\n",
            "\n",
            "---\n",
            "\n",
            "### **Day 2: Capitol Hill and Chihuly Glass Magic**\n",
            "**Morning**  \n",
            "- **Breakfast:** Kick off your day with coffee and baked delights at **The Wandering Goose**, a charming café on Capitol Hill.  \n",
            "- **Capitol Hill:** Explore this artsy neighborhood known for exceptional murals and street art! Visit **Elliott Bay Book Company** for a treasure trove of curated books amidst a creative, bohemian vibe.  \n",
            "\n",
            "**Afternoon**  \n",
            "- **Lunch:** Stop at **Plum Bistro**, a renowned vegan restaurant that’s part of Capitol Hill’s creative scene.  \n",
            "- **Chihuly Garden and Glass Exhibit:** Marvel at the colorful, intricate glass installations in this iconic museum, located in the Seattle Center. It’s the perfect destination for an art lover like yourself! You’ll get to see how Dale Chihuly blends glass with nature to create dazzling works of art.  \n",
            "- **Space Needle:** Right next door, ascend to the top of this famous landmark to enjoy panoramic views.  \n",
            "\n",
            "**Evening**  \n",
            "- **Dinner:** Treat yourself to modern Pacific Northwest cuisine at **Canlis**, an upscale, artfully designed restaurant with spectacular views of Lake Union—a lovely way to end your trip.  \n",
            "- If you're up for it, catch live music or an indie performance at **The Triple Door** for that unique Seattle vibe.\n",
            "\n",
            "---\n",
            "\n",
            "What do you think of this itinerary? I can refine it further based on your preferences.\n",
            "\n",
            "Stored facts after the run:\n",
            "- I am planning a trip to Seattle next month\n",
            "- User lives in Berlin\n",
            "- User name is Alex and I live in Berlin\n",
            "Stored facts after the run:\n",
            "- I am planning a trip to Seattle next month\n",
            "- User lives in Berlin\n",
            "- User name is Alex and I live in Berlin\n"
          ]
        }
      ],
      "source": [
        "await run_demo()\n"
      ]
    },
    {
      "cell_type": "markdown",
      "metadata": {},
      "source": [
        "## Next steps\n",
        "\n",
        "- Swap the in-memory store for Azure Cosmos DB, Azure Cache for Redis, or another persistent store.\n",
        "- Use an Azure AI summarisation deployment within `invoked` to create higher level memories.\n",
        "- Combine additional context providers (for example, retrieval augmented providers) and let `AggregateContextProvider` merge them automatically.\n"
      ]
    }
  ],
  "metadata": {
    "kernelspec": {
      "display_name": ".venv",
      "language": "python",
      "name": "python3"
    },
    "language_info": {
      "codemirror_mode": {
        "name": "ipython",
        "version": 3
      },
      "file_extension": ".py",
      "mimetype": "text/x-python",
      "name": "python",
      "nbconvert_exporter": "python",
      "pygments_lexer": "ipython3",
      "version": "3.12.10"
    }
  },
  "nbformat": 4,
  "nbformat_minor": 5
}
