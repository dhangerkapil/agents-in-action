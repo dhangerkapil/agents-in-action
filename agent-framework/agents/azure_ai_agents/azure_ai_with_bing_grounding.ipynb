{
 "cells": [
  {
   "cell_type": "markdown",
   "id": "f4d724ed",
   "metadata": {},
   "source": [
    "# Azure AI Agent with Bing Grounding Example\n",
    "\n",
    "This notebook demonstrates how to create an Azure AI agent that uses Bing Grounding search to find real-time information from the web.\n",
    "\n",
    "## Features Covered:\n",
    "- Setting up Bing Grounding search integration\n",
    "- Using HostedWebSearchTool for web searches\n",
    "- Creating agents that can access current web information\n",
    "- Proper resource management with async context managers"
   ]
  },
  {
   "cell_type": "markdown",
   "id": "61a45948",
   "metadata": {},
   "source": [
    "## Prerequisites\n",
    "\n",
    "Before running this notebook, ensure you have:\n",
    "- Azure CLI installed and authenticated (`az login --use-device-code`)\n",
    "- Access to an Azure AI Foundry project with deployed models\n",
    "- Environment variables set up (see Initial Setup section below)\n",
    "\n",
    "This example demonstrates Azure AI agents with Bing Grounding for web search capabilities. The agent can search the web for current information and provide informed responses."
   ]
  },
  {
   "cell_type": "markdown",
   "id": "39ba8574",
   "metadata": {},
   "source": [
    "## Import Libraries\n",
    "\n",
    "Import the required libraries for Azure AI agent functionality."
   ]
  },
  {
   "cell_type": "code",
   "execution_count": null,
   "id": "4165ecb2",
   "metadata": {},
   "outputs": [],
   "source": [
    "import os\n",
    "from pathlib import Path\n",
    "from agent_framework import ChatAgent, HostedWebSearchTool\n",
    "from agent_framework_azure_ai import AzureAIAgentClient\n",
    "from azure.identity.aio import AzureCliCredential"
   ]
  },
  {
   "cell_type": "markdown",
   "id": "f7fec0b5",
   "metadata": {},
   "source": [
    "## Initial Setup\n",
    "\n",
    "Initialize the Azure AI project client and set up authentication."
   ]
  },
  {
   "cell_type": "code",
   "execution_count": null,
   "id": "cecfc85b",
   "metadata": {},
   "outputs": [],
   "source": [
    "from pathlib import Path  # For working with file paths\n",
    "import os  # For environment variables\n",
    "import time  # For sleep function\n",
    "from dotenv import load_dotenv  # For loading environment variables from .env file\n",
    "# from azure.identity import InteractiveBrowserCredential  # For Azure authentication\n",
    "\n",
    "# Get the path to the .env file which is in the parent directory\n",
    "notebook_path = Path().absolute()  # Get absolute path of current notebook\n",
    "parent_dir = notebook_path.parent  # Get parent directory\n",
    "load_dotenv('../../.env')  # Load environment variables from .env file\n",
    "\n",
    "# # Get tenant ID for authentication\n",
    "# tenant_id = os.environ.get(\"TENANT_ID\")\n",
    "# conn_string = os.environ.get(\"AZURE_AI_PROJECT_ENDPOINT\")\n",
    "\n",
    "# print(f\"🔑 Using Tenant ID: {tenant_id}\")\n",
    "\n",
    "# # Initialize the AI Project Client using simplified browser-based authentication\n",
    "# try:\n",
    "#     print(\"🌐 Using browser-based authentication to bypass Azure CLI cache issues...\")\n",
    "    \n",
    "#     # Use only InteractiveBrowserCredential with the specific tenant\n",
    "#     credential = InteractiveBrowserCredential(tenant_id=tenant_id)\n",
    "    \n",
    "#     # Create the project client using endpoint (conn_string is actually the endpoint URL)\n",
    "#     project_client = AIProjectClient(\n",
    "#         endpoint=conn_string,\n",
    "#         credential=credential\n",
    "#     )\n",
    "#     print(\"✅ Successfully initialized AIProjectClient\")\n",
    "# except Exception as e:\n",
    "#     # Print error message if client initialization fails\n",
    "#     print(f\"❌ Error initializing project client: {str(e)}\")\n",
    "#     print(\"💡 Please complete the browser authentication prompt that should appear\")"
   ]
  },
  {
   "cell_type": "markdown",
   "id": "10de2dd7",
   "metadata": {},
   "source": [
    "## Check Environment Setup\n",
    "\n",
    "Let's verify that the required environment variable is set:"
   ]
  },
  {
   "cell_type": "code",
   "execution_count": null,
   "id": "444e2ae9",
   "metadata": {},
   "outputs": [],
   "source": [
    "import os\n",
    "\n",
    "# Check if BING_CONNECTION_ID is set\n",
    "bing_connection_id = os.getenv('BING_CONNECTION_ID')\n",
    "if bing_connection_id:\n",
    "    print(\"✅ BING_CONNECTION_ID is set\")\n",
    "    print(f\"Connection ID: {bing_connection_id[:50]}...\")  # Show first 50 chars for security\n",
    "else:\n",
    "    print(\"❌ BING_CONNECTION_ID environment variable is not set\")\n",
    "    print(\"Please set this variable before proceeding.\")"
   ]
  },
  {
   "cell_type": "markdown",
   "id": "a7775ba9",
   "metadata": {},
   "source": [
    "## Create Bing Grounding Search Tool\n",
    "\n",
    "The `HostedWebSearchTool` allows our agent to perform web searches using Bing. The connection ID will be automatically picked up from the environment variable:"
   ]
  },
  {
   "cell_type": "code",
   "execution_count": null,
   "id": "ae77d091",
   "metadata": {},
   "outputs": [],
   "source": [
    "# Create Bing Grounding search tool using HostedWebSearchTool\n",
    "# The connection_id will be automatically picked up from BING_CONNECTION_ID environment variable\n",
    "bing_search_tool = HostedWebSearchTool(\n",
    "    name=\"Bing Grounding Search\",\n",
    "    description=\"Search the web for current information using Bing\",\n",
    ")\n",
    "\n",
    "print(\"✅ Bing search tool created successfully\")"
   ]
  },
  {
   "cell_type": "markdown",
   "id": "cf015c08",
   "metadata": {},
   "source": [
    "## Create and Run the Agent\n",
    "\n",
    "Now let's create an Azure AI agent that can use the Bing search tool to find current information from the web:"
   ]
  },
  {
   "cell_type": "code",
   "execution_count": null,
   "id": "e280f6ba",
   "metadata": {},
   "outputs": [],
   "source": [
    "async def main() -> None:\n",
    "    \"\"\"Main function demonstrating Azure AI agent with Bing Grounding search.\"\"\"\n",
    "    \n",
    "    # Use AzureAIAgentClient as async context manager for automatic cleanup\n",
    "    async with (\n",
    "        AzureAIAgentClient(async_credential=AzureCliCredential()) as client,\n",
    "        ChatAgent(\n",
    "            chat_client=client,\n",
    "            name=\"BingSearchAgent\",\n",
    "            instructions=(\n",
    "                \"You are a helpful assistant that can search the web for current information. \"\n",
    "                \"Use the Bing search tool to find up-to-date information and provide accurate, \"\n",
    "                \"well-sourced answers. Always cite your sources when possible.\"\n",
    "            ),\n",
    "            tools=bing_search_tool,\n",
    "        ) as agent,\n",
    "    ):\n",
    "        # Demonstrate agent capabilities with web search\n",
    "        print(\"=== Azure AI Agent with Bing Grounding Search ===\\n\")\n",
    "\n",
    "        user_input = \"What is the most popular programming language?\"\n",
    "        print(f\"User: {user_input}\")\n",
    "        response = await agent.run(user_input)\n",
    "        print(f\"Agent: {response.text}\\n\")"
   ]
  },
  {
   "cell_type": "markdown",
   "id": "9bea50d5",
   "metadata": {},
   "source": [
    "## Execute the Example\n",
    "\n",
    "Run the main function to see the agent in action:"
   ]
  },
  {
   "cell_type": "code",
   "execution_count": null,
   "id": "1a5d34c6",
   "metadata": {},
   "outputs": [],
   "source": [
    "# Run the main function\n",
    "await main()"
   ]
  },
  {
   "cell_type": "markdown",
   "id": "d041dc56",
   "metadata": {},
   "source": [
    "## Try Additional Queries\n",
    "\n",
    "Let's test the agent with more queries that require current information:"
   ]
  },
  {
   "cell_type": "code",
   "execution_count": null,
   "id": "533a5fe0",
   "metadata": {},
   "outputs": [],
   "source": [
    "async def test_more_queries():\n",
    "    \"\"\"Test the agent with additional queries that require web search.\"\"\"\n",
    "    \n",
    "    async with (\n",
    "        AzureAIAgentClient(async_credential=AzureCliCredential()) as client,\n",
    "        ChatAgent(\n",
    "            chat_client=client,\n",
    "            name=\"BingSearchAgent\",\n",
    "            instructions=(\n",
    "                \"You are a helpful assistant that can search the web for current information. \"\n",
    "                \"Use the Bing search tool to find up-to-date information and provide accurate, \"\n",
    "                \"well-sourced answers. Always cite your sources when possible.\"\n",
    "            ),\n",
    "            tools=bing_search_tool,\n",
    "        ) as agent,\n",
    "    ):\n",
    "        queries = [\n",
    "            \"What are the latest trends in artificial intelligence?\",\n",
    "            \"What is the current weather in Seattle?\",\n",
    "            \"What are the latest Microsoft announcements?\"\n",
    "        ]\n",
    "        \n",
    "        for query in queries:\n",
    "            print(f\"\\n--- Query: {query} ---\")\n",
    "            response = await agent.run(query)\n",
    "            print(f\"Agent: {response.text}\")\n",
    "            print(\"-\" * 50)\n",
    "\n",
    "# Run additional queries\n",
    "await test_more_queries()"
   ]
  },
  {
   "cell_type": "markdown",
   "id": "06e28cc4",
   "metadata": {},
   "source": [
    "## Key Takeaways\n",
    "\n",
    "1. **Bing Grounding Integration**: The `HostedWebSearchTool` provides seamless integration with Bing search capabilities\n",
    "2. **Environment Configuration**: The `BING_CONNECTION_ID` environment variable is crucial for connecting to your Azure AI project's Bing resource\n",
    "3. **Real-time Information**: Agents can now access current web information, making them more useful for time-sensitive queries\n",
    "4. **Source Citation**: The agent is instructed to cite sources, promoting transparency and reliability\n",
    "5. **Resource Management**: Using async context managers ensures proper cleanup of resources\n",
    "6. **Tool Integration**: The Bing search tool seamlessly integrates with the agent's existing capabilities\n",
    "\n",
    "## Troubleshooting\n",
    "\n",
    "If you encounter issues:\n",
    "1. **Authentication**: Ensure you're logged in with `az login`\n",
    "2. **Environment Variable**: Double-check that `BING_CONNECTION_ID` is correctly set\n",
    "3. **Azure AI Project**: Verify that Bing Grounding is properly configured in your Azure AI Foundry project\n",
    "4. **Permissions**: Ensure you have the necessary permissions to access the connected Bing search resource"
   ]
  }
 ],
 "metadata": {
  "kernelspec": {
   "display_name": ".venv",
   "language": "python",
   "name": "python3"
  },
  "language_info": {
   "codemirror_mode": {
    "name": "ipython",
    "version": 3
   },
   "file_extension": ".py",
   "mimetype": "text/x-python",
   "name": "python",
   "nbconvert_exporter": "python",
   "pygments_lexer": "ipython3",
   "version": "3.12.10"
  }
 },
 "nbformat": 4,
 "nbformat_minor": 5
}
