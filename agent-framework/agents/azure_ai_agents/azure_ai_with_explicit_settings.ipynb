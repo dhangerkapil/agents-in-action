{
 "cells": [
  {
   "cell_type": "markdown",
   "id": "c4af6fc6",
   "metadata": {},
   "source": [
    "# Azure AI Agent with Explicit Settings Example\n",
    "\n",
    "This notebook demonstrates creating Azure AI Agents with explicit configuration settings rather than relying on environment variable defaults.\n",
    "\n",
    "## Features Covered:\n",
    "- Explicit configuration of Azure AI client settings\n",
    "- Direct specification of project endpoint and model deployment\n",
    "- Custom agent naming during client creation\n",
    "- Alternative to environment variable-based configuration"
   ]
  },
  {
   "cell_type": "markdown",
   "id": "69b84bd0",
   "metadata": {},
   "source": [
    "## Prerequisites\n",
    "\n",
    "Before running this notebook, ensure you have:\n",
    "- Azure CLI installed and authenticated (`az login --use-device-code`)\n",
    "- Access to an Azure AI Foundry project with deployed models\n",
    "- Environment variables set up (see Initial Setup section below)"
   ]
  },
  {
   "cell_type": "markdown",
   "id": "ccb3a828",
   "metadata": {},
   "source": [
    "## Import Libraries\n",
    "\n",
    "Import the required libraries for Azure AI agent functionality."
   ]
  },
  {
   "cell_type": "code",
   "execution_count": null,
   "id": "820f24f6",
   "metadata": {},
   "outputs": [],
   "source": [
    "import asyncio\n",
    "import os\n",
    "from random import randint\n",
    "from typing import Annotated\n",
    "import os\n",
    "from pathlib import Path\n",
    "\n",
    "from agent_framework import ChatAgent\n",
    "from agent_framework.azure import AzureAIAgentClient\n",
    "from azure.identity.aio import AzureCliCredential\n",
    "from pydantic import Field\n",
    "from dotenv import load_dotenv  # For loading environment variables from .env file\n",
    "\n",
    "# Get the path to the .env file which is in the parent directory\n",
    "notebook_path = Path().absolute()  # Get absolute path of current notebook\n",
    "parent_dir = notebook_path.parent  # Get parent directory\n",
    "load_dotenv('../../.env')  # Load environment variables from .env file"
   ]
  },
  {
   "cell_type": "code",
   "execution_count": null,
   "id": "4929df43",
   "metadata": {},
   "outputs": [],
   "source": [
    "def get_weather(\n",
    "    location: Annotated[str, Field(description=\"The location to get the weather for.\")],\n",
    ") -> str:\n",
    "    \"\"\"Get the weather for a given location.\"\"\"\n",
    "    conditions = [\"sunny\", \"cloudy\", \"rainy\", \"stormy\"]\n",
    "    return f\"The weather in {location} is {conditions[randint(0, 3)]} with a high of {randint(10, 30)}°C.\""
   ]
  },
  {
   "cell_type": "code",
   "execution_count": null,
   "id": "fac8fd56",
   "metadata": {},
   "outputs": [],
   "source": [
    "async def main() -> None:\n",
    "    print(\"=== Azure AI Chat Client with Explicit Settings ===\")\n",
    "\n",
    "    # Since no Agent ID is provided, the agent will be automatically created\n",
    "    # and deleted after getting a response\n",
    "    async with (\n",
    "        AzureCliCredential() as credential,\n",
    "        ChatAgent(\n",
    "            chat_client=AzureAIAgentClient(\n",
    "                project_endpoint=os.environ[\"AZURE_AI_PROJECT_ENDPOINT\"],\n",
    "                model_deployment_name=os.environ[\"AZURE_AI_MODEL_DEPLOYMENT_NAME\"],\n",
    "                async_credential=credential,\n",
    "                agent_name=\"WeatherAgent\",\n",
    "            ),\n",
    "            instructions=\"You are a helpful weather agent.\",\n",
    "            tools=get_weather,\n",
    "        ) as agent,\n",
    "    ):\n",
    "        result = await agent.run(\"What's the weather like in New York?\")\n",
    "        print(f\"Result: {result}\\n\")\n",
    "\n",
    "# Run the main function\n",
    "await main()"
   ]
  }
 ],
 "metadata": {
  "kernelspec": {
   "display_name": ".venv",
   "language": "python",
   "name": "python3"
  },
  "language_info": {
   "codemirror_mode": {
    "name": "ipython",
    "version": 3
   },
   "file_extension": ".py",
   "mimetype": "text/x-python",
   "name": "python",
   "nbconvert_exporter": "python",
   "pygments_lexer": "ipython3",
   "version": "3.12.10"
  }
 },
 "nbformat": 4,
 "nbformat_minor": 5
}
