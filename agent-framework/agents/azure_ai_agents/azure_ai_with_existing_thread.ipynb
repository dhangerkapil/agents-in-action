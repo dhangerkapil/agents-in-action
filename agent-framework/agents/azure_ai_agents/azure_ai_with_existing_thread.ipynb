{
 "cells": [
  {
   "cell_type": "markdown",
   "id": "1f268b0a",
   "metadata": {},
   "source": [
    "# Azure AI Agent with Existing Thread Example\n",
    "\n",
    "This notebook demonstrates working with pre-existing conversation threads by providing thread IDs for thread reuse patterns.\n",
    "\n",
    "## Features Covered:\n",
    "- Creating and managing persistent conversation threads\n",
    "- Working with existing thread IDs\n",
    "- Thread lifecycle management (create, use, delete)\n",
    "- Conversation continuity across sessions\n",
    "- Thread initialization and validation"
   ]
  },
  {
   "cell_type": "markdown",
   "id": "19d30a3a",
   "metadata": {},
   "source": [
    "## Prerequisites\n",
    "\n",
    "Before running this notebook, ensure you have:\n",
    "\n",
    "1. **Azure AI Project**: Access to an Azure AI Foundry project with deployed models\n",
    "2. **Authentication**: Azure CLI installed and authenticated (`az login --use-device-code`)\n",
    "3. **Environment Variables**: Set up your `.env` file with connection details\n",
    "4. **Dependencies**: Required agent-framework packages installed\n",
    "\n",
    "If you need to use a different tenant, specify the tenant ID:\n",
    "```bash\n",
    "az login --tenant <tenant-id>\n",
    "```\n",
    "\n",
    "This example demonstrates how to work with existing threads to maintain conversation continuity."
   ]
  },
  {
   "cell_type": "markdown",
   "id": "8d28ee6d",
   "metadata": {},
   "source": [
    "## Import Libraries\n",
    "\n",
    "Import the required libraries for Azure AI agent functionality."
   ]
  },
  {
   "cell_type": "code",
   "execution_count": null,
   "id": "97f6a607",
   "metadata": {},
   "outputs": [],
   "source": [
    "import os\n",
    "from pathlib import Path\n",
    "from azure.identity import AzureCliCredential, InteractiveBrowserCredential\n",
    "from dotenv import load_dotenv  # For loading environment variables from .env file\n",
    "import asyncio\n",
    "from random import randint\n",
    "from typing import Annotated\n",
    "from agent_framework import ChatAgent\n",
    "from agent_framework.azure import AzureAIAgentClient\n",
    "from azure.ai.projects.aio import AIProjectClient\n",
    "from azure.identity.aio import AzureCliCredential\n",
    "from pydantic import Field\n",
    "\n",
    "# Get the path to the .env file which is in the parent directory\n",
    "notebook_path = Path().absolute()  # Get absolute path of current notebook\n",
    "parent_dir = notebook_path.parent  # Get parent directory\n",
    "load_dotenv('../../.env')  # Load environment variables from .env file"
   ]
  },
  {
   "cell_type": "markdown",
   "id": "7bdf0eab",
   "metadata": {},
   "source": [
    "## Check Environment Variables\n",
    "\n",
    "Let's verify that the required environment variables are set:"
   ]
  },
  {
   "cell_type": "code",
   "execution_count": null,
   "id": "792db510",
   "metadata": {},
   "outputs": [],
   "source": [
    "# Check required environment variables\n",
    "endpoint = os.getenv('AZURE_AI_PROJECT_ENDPOINT')\n",
    "if endpoint:\n",
    "    print(f\"✅ AZURE_AI_PROJECT_ENDPOINT: {endpoint}\")\n",
    "else:\n",
    "    print(\"❌ AZURE_AI_PROJECT_ENDPOINT: Not set\")\n",
    "    print(\"⚠️  Please set the AZURE_AI_PROJECT_ENDPOINT environment variable\")"
   ]
  },
  {
   "cell_type": "markdown",
   "id": "e2cf80a6",
   "metadata": {},
   "source": [
    "## Define Function Tools\n",
    "\n",
    "Let's define a simple weather function that our agent can use:"
   ]
  },
  {
   "cell_type": "code",
   "execution_count": null,
   "id": "01ef2c8b",
   "metadata": {},
   "outputs": [],
   "source": [
    "def get_weather(\n",
    "    location: Annotated[str, Field(description=\"The location to get the weather for.\")],\n",
    ") -> str:\n",
    "    \"\"\"Get the weather for a given location.\"\"\"\n",
    "    conditions = [\"sunny\", \"cloudy\", \"rainy\", \"stormy\"]\n",
    "    return f\"The weather in {location} is {conditions[randint(0, 3)]} with a high of {randint(10, 30)}°C.\""
   ]
  },
  {
   "cell_type": "markdown",
   "id": "fed9e916",
   "metadata": {},
   "source": [
    "## Create and Use Existing Thread\n",
    "\n",
    "This example shows how to:\n",
    "1. Create a thread that persists beyond the current session\n",
    "2. Use the thread ID to continue conversations\n",
    "3. Properly clean up thread resources"
   ]
  },
  {
   "cell_type": "code",
   "execution_count": null,
   "id": "8afe62cf",
   "metadata": {},
   "outputs": [],
   "source": [
    "async def main() -> None:\n",
    "    print(\"=== Azure AI Chat Client with Existing Thread ===\")\n",
    "\n",
    "    # Create the client\n",
    "    async with (\n",
    "        AzureCliCredential() as credential,\n",
    "        AIProjectClient(endpoint=os.environ[\"AZURE_AI_PROJECT_ENDPOINT\"], credential=credential) as client,\n",
    "    ):\n",
    "        # Create a thread that will persist\n",
    "        created_thread = await client.agents.threads.create()\n",
    "        print(f\"✅ Created thread with ID: {created_thread.id}\")\n",
    "\n",
    "        try:\n",
    "            async with ChatAgent(\n",
    "                # passing in the client is optional here, so if you take the agent_id from the portal\n",
    "                # you can use it directly without the two lines above.\n",
    "                chat_client=AzureAIAgentClient(project_client=client),\n",
    "                instructions=\"You are a helpful weather agent.\",\n",
    "                tools=get_weather,\n",
    "            ) as agent:\n",
    "                thread = agent.get_new_thread(service_thread_id=created_thread.id)\n",
    "                assert thread.is_initialized\n",
    "                print(f\"✅ Thread is initialized: {thread.is_initialized}\")\n",
    "                \n",
    "                result = await agent.run(\"What's the weather like in Tokyo?\", thread=thread)\n",
    "                print(f\"Result: {result}\\n\")\n",
    "        finally:\n",
    "            # Clean up the thread manually\n",
    "            await client.agents.threads.delete(created_thread.id)\n",
    "            print(f\"🗑️  Deleted thread with ID: {created_thread.id}\")"
   ]
  },
  {
   "cell_type": "markdown",
   "id": "e2244be0",
   "metadata": {},
   "source": [
    "## Execute the Example\n",
    "\n",
    "Run the main function to see the existing thread workflow:"
   ]
  },
  {
   "cell_type": "code",
   "execution_count": null,
   "id": "a1cd7596",
   "metadata": {},
   "outputs": [],
   "source": [
    "# Run the main function\n",
    "await main()"
   ]
  },
  {
   "cell_type": "markdown",
   "id": "2a2e5b5a",
   "metadata": {},
   "source": [
    "## Multi-Turn Conversation Example\n",
    "\n",
    "This example shows how to have a multi-turn conversation using a persistent thread:"
   ]
  },
  {
   "cell_type": "code",
   "execution_count": null,
   "id": "83d1202b",
   "metadata": {},
   "outputs": [],
   "source": [
    "async def multi_turn_conversation_example():\n",
    "    \"\"\"Example showing multi-turn conversation with persistent thread.\"\"\"\n",
    "    print(\"=== Multi-Turn Conversation Example ===\")\n",
    "    \n",
    "    async with (\n",
    "        AzureCliCredential() as credential,\n",
    "        AIProjectClient(endpoint=os.environ[\"AZURE_AI_PROJECT_ENDPOINT\"], credential=credential) as client,\n",
    "    ):\n",
    "        # Create a persistent thread for the conversation\n",
    "        conversation_thread = await client.agents.threads.create()\n",
    "        print(f\"📝 Started conversation with thread ID: {conversation_thread.id}\")\n",
    "        \n",
    "        try:\n",
    "            async with ChatAgent(\n",
    "                chat_client=AzureAIAgentClient(project_client=client),\n",
    "                instructions=\"You are a helpful weather agent. Remember previous conversations and provide contextual responses.\",\n",
    "                tools=get_weather,\n",
    "            ) as agent:\n",
    "                \n",
    "                # Get the thread object\n",
    "                thread = agent.get_new_thread(service_thread_id=conversation_thread.id)\n",
    "                \n",
    "                # Multi-turn conversation\n",
    "                conversation = [\n",
    "                    \"What's the weather like in Paris?\",\n",
    "                    \"How about in London?\",\n",
    "                    \"Which city has better weather between the two I just asked about?\",\n",
    "                    \"Thank you for the information about Paris and London.\"\n",
    "                ]\n",
    "                \n",
    "                for i, user_message in enumerate(conversation, 1):\n",
    "                    print(f\"\\n--- Turn {i} ---\")\n",
    "                    print(f\"🤔 User: {user_message}\")\n",
    "                    \n",
    "                    result = await agent.run(user_message, thread=thread)\n",
    "                    print(f\"🤖 Agent: {result.text}\")\n",
    "                    \n",
    "        finally:\n",
    "            # Clean up the thread\n",
    "            await client.agents.threads.delete(conversation_thread.id)\n",
    "            print(f\"\\n🗑️  Conversation ended. Deleted thread: {conversation_thread.id}\")\n",
    "\n",
    "# Run the multi-turn conversation example\n",
    "await multi_turn_conversation_example()"
   ]
  },
  {
   "cell_type": "markdown",
   "id": "baa50682",
   "metadata": {},
   "source": [
    "## Thread Management Example\n",
    "\n",
    "This example demonstrates advanced thread management operations:"
   ]
  },
  {
   "cell_type": "code",
   "execution_count": null,
   "id": "5bc999d0",
   "metadata": {},
   "outputs": [],
   "source": [
    "async def thread_management_example():\n",
    "    \"\"\"Advanced example showing thread management operations.\"\"\"\n",
    "    print(\"=== Thread Management Example ===\")\n",
    "    \n",
    "    async with (\n",
    "        AzureCliCredential() as credential,\n",
    "        AIProjectClient(endpoint=os.environ[\"AZURE_AI_PROJECT_ENDPOINT\"], credential=credential) as client,\n",
    "    ):\n",
    "        # Create multiple threads\n",
    "        threads = []\n",
    "        for i in range(3):\n",
    "            thread = await client.agents.threads.create()\n",
    "            threads.append(thread)\n",
    "            print(f\"📝 Created thread {i+1}: {thread.id}\")\n",
    "        \n",
    "        try:\n",
    "            async with ChatAgent(\n",
    "                chat_client=AzureAIAgentClient(project_client=client),\n",
    "                instructions=\"You are a helpful assistant. Each thread represents a different conversation.\",\n",
    "                tools=get_weather,\n",
    "            ) as agent:\n",
    "                \n",
    "                # Use each thread for a different topic\n",
    "                topics = [\n",
    "                    (\"Weather in New York\", \"What's the weather in New York?\"),\n",
    "                    (\"Weather in Berlin\", \"How's the weather in Berlin?\"),\n",
    "                    (\"Weather comparison\", \"Compare weather in Asia vs Europe\")\n",
    "                ]\n",
    "                \n",
    "                for i, (topic, query) in enumerate(topics):\n",
    "                    print(f\"\\n--- Thread {i+1}: {topic} ---\")\n",
    "                    thread_obj = agent.get_new_thread(service_thread_id=threads[i].id)\n",
    "                    \n",
    "                    print(f\"🤔 User: {query}\")\n",
    "                    result = await agent.run(query, thread=thread_obj)\n",
    "                    print(f\"🤖 Agent: {result.text}\")\n",
    "                    \n",
    "                # Follow up on first thread to show conversation continuity\n",
    "                print(\"\\n--- Following up on Thread 1 ---\")\n",
    "                thread_1 = agent.get_new_thread(service_thread_id=threads[0].id)\n",
    "                followup = \"Is it good weather for outdoor activities?\"\n",
    "                print(f\"🤔 User: {followup}\")\n",
    "                result = await agent.run(followup, thread=thread_1)\n",
    "                print(f\"🤖 Agent: {result.text}\")\n",
    "                \n",
    "        finally:\n",
    "            # Clean up all threads\n",
    "            for i, thread in enumerate(threads):\n",
    "                await client.agents.threads.delete(thread.id)\n",
    "                print(f\"🗑️  Deleted thread {i+1}: {thread.id}\")\n",
    "\n",
    "# Run the thread management example\n",
    "await thread_management_example()"
   ]
  },
  {
   "cell_type": "markdown",
   "id": "912623de",
   "metadata": {},
   "source": [
    "## Key Takeaways\n",
    "\n",
    "1. **Persistent Threads**: Threads can persist beyond a single session, enabling conversation continuity\n",
    "2. **Thread Initialization**: Always verify that threads are properly initialized before use\n",
    "3. **Conversation Context**: Threads maintain conversation history, allowing for contextual responses\n",
    "4. **Resource Management**: Always clean up threads when they're no longer needed\n",
    "5. **Multi-Threading**: You can manage multiple separate conversations using different thread IDs\n",
    "6. **Thread Reuse**: Threads can be reused across different agent instances\n",
    "\n",
    "## Best Practices\n",
    "\n",
    "1. **Thread Lifecycle**: Create threads when starting conversations and delete them when finished\n",
    "2. **Error Handling**: Use try-finally blocks to ensure thread cleanup\n",
    "3. **Thread Validation**: Always check if threads are initialized before using them\n",
    "4. **Context Awareness**: Leverage thread history for more contextual conversations\n",
    "5. **Resource Monitoring**: Monitor thread usage to avoid unnecessary resource consumption\n",
    "\n",
    "## Use Cases\n",
    "\n",
    "- **Customer Support**: Maintaining conversation history across support sessions\n",
    "- **Multi-Session Chats**: Continuing conversations across different user sessions\n",
    "- **Conversation Branching**: Managing multiple conversation topics simultaneously\n",
    "- **Context Preservation**: Keeping conversation context for better user experience\n",
    "- **Session Management**: Managing different conversation sessions for different users"
   ]
  }
 ],
 "metadata": {
  "kernelspec": {
   "display_name": ".venv",
   "language": "python",
   "name": "python3"
  },
  "language_info": {
   "codemirror_mode": {
    "name": "ipython",
    "version": 3
   },
   "file_extension": ".py",
   "mimetype": "text/x-python",
   "name": "python",
   "nbconvert_exporter": "python",
   "pygments_lexer": "ipython3",
   "version": "3.12.10"
  }
 },
 "nbformat": 4,
 "nbformat_minor": 5
}
