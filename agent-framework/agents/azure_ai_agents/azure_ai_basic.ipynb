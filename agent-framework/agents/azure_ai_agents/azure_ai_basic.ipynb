{
 "cells": [
  {
   "cell_type": "markdown",
   "id": "abc8909d",
   "metadata": {},
   "source": [
    "# Azure AI Agent Basic Example\n",
    "\n",
    "This notebook demonstrates basic usage of AzureAIAgentClient to create agents with automatic lifecycle management. It shows both streaming and non-streaming responses with function tools.\n",
    "\n",
    "## Features Covered:\n",
    "- Creating an Azure AI Agent with automatic lifecycle management\n",
    "- Using function tools (weather function)\n",
    "- Non-streaming responses (get complete result at once)\n",
    "- Streaming responses (get results as they are generated)\n",
    "- Authentication using Azure CLI credentials"
   ]
  },
  {
   "cell_type": "markdown",
   "id": "a6eb53f4",
   "metadata": {},
   "source": [
    "## Prerequisites\n",
    "\n",
    "Before running this notebook, make sure you have:\n",
    "1. Installed the agent-framework packages\n",
    "2. Authenticated with Azure CLI (`az login --use-device-code`)\n",
    "3. Configured your Azure AI services"
   ]
  },
  {
   "cell_type": "markdown",
   "id": "da47fa9b",
   "metadata": {},
   "source": [
    "## Import Required Libraries\n",
    "\n",
    "First, let's import all the necessary libraries and modules:"
   ]
  },
  {
   "cell_type": "code",
   "execution_count": null,
   "id": "c87dfd3b",
   "metadata": {},
   "outputs": [],
   "source": [
    "# Copyright (c) Microsoft. All rights reserved.\n",
    "\n",
    "import asyncio\n",
    "from random import randint\n",
    "from typing import Annotated\n",
    "\n",
    "from agent_framework.azure import AzureAIAgentClient\n",
    "from azure.identity.aio import AzureCliCredential\n",
    "from pydantic import Field"
   ]
  },
  {
   "cell_type": "markdown",
   "id": "0bb95fd4",
   "metadata": {},
   "source": [
    "## Initial Setup\n",
    "We'll start by importing needed libraries, loading environment variables, and initializing an **AIProjectClient** so we can do all the agent-related actions. Let's do it! 🎉"
   ]
  },
  {
   "cell_type": "code",
   "execution_count": null,
   "id": "37198f02",
   "metadata": {},
   "outputs": [],
   "source": [
    "from pathlib import Path  # For working with file paths\n",
    "import os  # For environment variables\n",
    "import time  # For sleep function\n",
    "from dotenv import load_dotenv  # For loading environment variables from .env file\n",
    "from azure.identity import InteractiveBrowserCredential  # For Azure authentication\n",
    "\n",
    "# Get the path to the .env file which is in the parent directory\n",
    "notebook_path = Path().absolute()  # Get absolute path of current notebook\n",
    "parent_dir = notebook_path.parent  # Get parent directory\n",
    "load_dotenv('../../.env')  # Load environment variables from .env file\n",
    "\n",
    "# # Get tenant ID for authentication\n",
    "# tenant_id = os.environ.get(\"TENANT_ID\")\n",
    "# conn_string = os.environ.get(\"AZURE_AI_PROJECT_ENDPOINT\")\n",
    "\n",
    "# print(f\"🔑 Using Tenant ID: {tenant_id}\")\n",
    "\n",
    "# # Initialize the AI Project Client using simplified browser-based authentication\n",
    "# try:\n",
    "#     print(\"🌐 Using browser-based authentication to bypass Azure CLI cache issues...\")\n",
    "    \n",
    "#     # Use only InteractiveBrowserCredential with the specific tenant\n",
    "#     credential = InteractiveBrowserCredential(tenant_id=tenant_id)\n",
    "    \n",
    "#     # Create the project client using endpoint (conn_string is actually the endpoint URL)\n",
    "#     project_client = AIProjectClient(\n",
    "#         endpoint=conn_string,\n",
    "#         credential=credential\n",
    "#     )\n",
    "#     print(\"✅ Successfully initialized AIProjectClient\")\n",
    "# except Exception as e:\n",
    "#     # Print error message if client initialization fails\n",
    "#     print(f\"❌ Error initializing project client: {str(e)}\")\n",
    "#     print(\"💡 Please complete the browser authentication prompt that should appear\")"
   ]
  },
  {
   "cell_type": "markdown",
   "id": "7a6bb514",
   "metadata": {},
   "source": [
    "## Define Function Tools\n",
    "\n",
    "Function tools allow the agent to call specific functions to gather information or perform actions. Here we define a simple weather function that the agent can use:"
   ]
  },
  {
   "cell_type": "code",
   "execution_count": null,
   "id": "b074eaab",
   "metadata": {},
   "outputs": [],
   "source": [
    "def get_weather(\n",
    "    location: Annotated[str, Field(description=\"The location to get the weather for.\")],\n",
    ") -> str:\n",
    "    \"\"\"Get the weather for a given location.\"\"\"\n",
    "    conditions = [\"sunny\", \"cloudy\", \"rainy\", \"stormy\"]\n",
    "    return f\"The weather in {location} is {conditions[randint(0, 3)]} with a high of {randint(10, 30)}°C.\""
   ]
  },
  {
   "cell_type": "markdown",
   "id": "11d1a9e8",
   "metadata": {},
   "source": [
    "## Non-Streaming Response Example\n",
    "\n",
    "In this example, we'll create an agent and get a complete response at once (non-streaming). The agent will be automatically created and deleted after getting the response:"
   ]
  },
  {
   "cell_type": "code",
   "execution_count": null,
   "id": "69a90633",
   "metadata": {},
   "outputs": [],
   "source": [
    "async def non_streaming_example() -> None:\n",
    "    \"\"\"Example of non-streaming response (get the complete result at once).\"\"\"\n",
    "    print(\"=== Non-streaming Response Example ===\")\n",
    "\n",
    "    # Since no Agent ID is provided, the agent will be automatically created\n",
    "    # and deleted after getting a response\n",
    "    # For authentication, run `az login` command in terminal or replace AzureCliCredential with preferred\n",
    "    # authentication option.\n",
    "    async with (\n",
    "        AzureCliCredential() as credential,\n",
    "        AzureAIAgentClient(async_credential=credential).create_agent(\n",
    "            name=\"WeatherAgent\",\n",
    "            instructions=\"You are a helpful weather agent.\",\n",
    "            tools=get_weather,\n",
    "        ) as agent,\n",
    "    ):\n",
    "        query = \"What's the weather like in Seattle?\"\n",
    "        print(f\"User: {query}\")\n",
    "        result = await agent.run(query)\n",
    "        print(f\"Agent: {result}\\n\")"
   ]
  },
  {
   "cell_type": "markdown",
   "id": "65d857ca",
   "metadata": {},
   "source": [
    "## Streaming Response Example\n",
    "\n",
    "In this example, we'll demonstrate streaming responses where we get results as they are generated by the agent:"
   ]
  },
  {
   "cell_type": "code",
   "execution_count": null,
   "id": "019a53b4",
   "metadata": {},
   "outputs": [],
   "source": [
    "async def streaming_example() -> None:\n",
    "    \"\"\"Example of streaming response (get results as they are generated).\"\"\"\n",
    "    print(\"=== Streaming Response Example ===\")\n",
    "\n",
    "    # Since no Agent ID is provided, the agent will be automatically created\n",
    "    # and deleted after getting a response\n",
    "    # For authentication, run `az login` command in terminal or replace AzureCliCredential with preferred\n",
    "    # authentication option.\n",
    "    async with (\n",
    "        AzureCliCredential() as credential,\n",
    "        AzureAIAgentClient(async_credential=credential).create_agent(\n",
    "            name=\"WeatherAgent\",\n",
    "            instructions=\"You are a helpful weather agent.\",\n",
    "            tools=get_weather,\n",
    "        ) as agent,\n",
    "    ):\n",
    "        query = \"What's the weather like in Portland?\"\n",
    "        print(f\"User: {query}\")\n",
    "        print(\"Agent: \", end=\"\", flush=True)\n",
    "        async for chunk in agent.run_stream(query):\n",
    "            if chunk.text:\n",
    "                print(chunk.text, end=\"\", flush=True)\n",
    "        print(\"\\n\")"
   ]
  },
  {
   "cell_type": "markdown",
   "id": "dfb42e74",
   "metadata": {},
   "source": [
    "## Main Execution Function\n",
    "\n",
    "This function orchestrates the execution of both examples:"
   ]
  },
  {
   "cell_type": "code",
   "execution_count": null,
   "id": "90b61963",
   "metadata": {},
   "outputs": [],
   "source": [
    "async def main() -> None:\n",
    "    print(\"=== Basic Azure AI Chat Client Agent Example ===\")\n",
    "\n",
    "    await non_streaming_example()\n",
    "    await streaming_example()"
   ]
  },
  {
   "cell_type": "markdown",
   "id": "e1225c4c",
   "metadata": {},
   "source": [
    "## Run the Examples\n",
    "\n",
    "Execute the main function to run both streaming and non-streaming examples:"
   ]
  },
  {
   "cell_type": "code",
   "execution_count": null,
   "id": "1e9f76b0",
   "metadata": {},
   "outputs": [],
   "source": [
    "# Run the main function\n",
    "await main()"
   ]
  },
  {
   "cell_type": "markdown",
   "id": "369e3849",
   "metadata": {},
   "source": [
    "## Key Takeaways\n",
    "\n",
    "1. **Automatic Lifecycle Management**: When no Agent ID is provided, the agent is automatically created and cleaned up\n",
    "2. **Function Tools**: Agents can use custom functions to perform specific tasks (like getting weather data)\n",
    "3. **Authentication**: Uses Azure CLI credentials for authentication (make sure to run `az login` first)\n",
    "4. **Response Types**: \n",
    "   - Non-streaming: Get complete response at once using `agent.run()`\n",
    "   - Streaming: Get response chunks as they're generated using `agent.run_stream()`\n",
    "5. **Context Managers**: Using `async with` ensures proper resource cleanup"
   ]
  }
 ],
 "metadata": {
  "kernelspec": {
   "display_name": ".venv",
   "language": "python",
   "name": "python3"
  },
  "language_info": {
   "codemirror_mode": {
    "name": "ipython",
    "version": 3
   },
   "file_extension": ".py",
   "mimetype": "text/x-python",
   "name": "python",
   "nbconvert_exporter": "python",
   "pygments_lexer": "ipython3",
   "version": "3.12.10"
  }
 },
 "nbformat": 4,
 "nbformat_minor": 5
}
