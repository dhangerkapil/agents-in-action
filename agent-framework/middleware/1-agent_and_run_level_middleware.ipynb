{
 "cells": [
  {
   "cell_type": "markdown",
   "id": "7d5cbad1",
   "metadata": {},
   "source": [
    "# Agent-Level and Run-Level Middleware\n",
    "\n",
    "## Overview\n",
    "\n",
    "This notebook demonstrates the difference between **agent-level** and **run-level** middleware in the Agent Framework.\n",
    "\n",
    "**Agent-Level Middleware:**\n",
    "- Applied to **ALL runs** of the agent (persistent across runs)\n",
    "- Configured once when creating the agent\n",
    "- Examples: security validation, performance monitoring, function logging\n",
    "\n",
    "**Run-Level Middleware:**\n",
    "- Applied to **specific runs only** (isolated per run)\n",
    "- Allows per-request customization\n",
    "- Examples: high priority handling, debugging, caching\n",
    "\n",
    "**Execution Order:** Agent middleware (outermost) \u2192 Run middleware (innermost) \u2192 Agent execution\n",
    "\n",
    "## Prerequisites\n",
    "- Azure CLI authentication (`az login`)\n",
    "- Azure OpenAI endpoint and deployment configured in `.env`\n",
    "- `agent-framework` package installed"
   ]
  },
  {
   "cell_type": "markdown",
   "id": "7092b6bc",
   "metadata": {},
   "source": [
    "## Setup: Load Environment Variables"
   ]
  },
  {
   "cell_type": "code",
   "execution_count": null,
   "id": "8d8c7e3a",
   "metadata": {},
   "outputs": [],
   "source": [
    "import os\n",
    "from dotenv import load_dotenv\n",
    "\n",
    "load_dotenv('../.env')\n",
    "\n",
    "project_endpoint = os.getenv(\"AZURE_AI_PROJECT_ENDPOINT\")\n",
    "model_deployment_name = os.getenv(\"AZURE_AI_MODEL_DEPLOYMENT_NAME\")\n",
    "\n",
    "print(f\"Project Endpoint: {project_endpoint}\")\n",
    "print(f\"Model Deployment: {model_deployment_name}\")"
   ]
  },
  {
   "cell_type": "markdown",
   "id": "df4f1388",
   "metadata": {},
   "source": [
    "## Import Required Libraries"
   ]
  },
  {
   "cell_type": "code",
   "execution_count": null,
   "id": "1af4f709",
   "metadata": {},
   "outputs": [],
   "source": [
    "import asyncio\n",
    "import time\n",
    "from collections.abc import Awaitable, Callable\n",
    "from random import randint\n",
    "from typing import Annotated\n",
    "\n",
    "from agent_framework import (\n",
    "    AgentMiddleware,\n",
    "    AgentRunContext,\n",
    "    AgentRunResponse,\n",
    "    FunctionInvocationContext,\n",
    ")\n",
    "from agent_framework.azure import AzureAIAgentClient\n",
    "from azure.identity.aio import AzureCliCredential\n",
    "from pydantic import Field"
   ]
  },
  {
   "cell_type": "markdown",
   "id": "03437f7d",
   "metadata": {},
   "source": [
    "## Define Tool Function"
   ]
  },
  {
   "cell_type": "code",
   "execution_count": null,
   "id": "71492d86",
   "metadata": {},
   "outputs": [],
   "source": [
    "def get_weather(\n",
    "    location: Annotated[str, Field(description=\"The location to get the weather for.\")],\n",
    ") -> str:\n",
    "    \"\"\"Get the weather for a given location.\"\"\"\n",
    "    conditions = [\"sunny\", \"cloudy\", \"rainy\", \"stormy\"]\n",
    "    return f\"The weather in {location} is {conditions[randint(0, 3)]} with a high of {randint(10, 30)}\u00b0C.\""
   ]
  },
  {
   "cell_type": "markdown",
   "id": "e568809a",
   "metadata": {},
   "source": [
    "## Agent-Level Middleware Examples\n",
    "\n",
    "These middleware are applied to **ALL runs** of the agent."
   ]
  },
  {
   "cell_type": "markdown",
   "id": "e2aedb0b",
   "metadata": {},
   "source": [
    "### 1. Security Middleware (Class-Based)\n",
    "\n",
    "Validates all requests for security violations."
   ]
  },
  {
   "cell_type": "code",
   "execution_count": null,
   "id": "7f02bf62",
   "metadata": {},
   "outputs": [],
   "source": [
    "class SecurityAgentMiddleware(AgentMiddleware):\n",
    "    \"\"\"Agent-level security middleware that validates all requests.\"\"\"\n",
    "\n",
    "    async def process(self, context: AgentRunContext, next: Callable[[AgentRunContext], Awaitable[None]]) -> None:\n",
    "        print(\"[SecurityMiddleware] Checking security for all requests...\")\n",
    "\n",
    "        # Check for security violations in the last user message\n",
    "        last_message = context.messages[-1] if context.messages else None\n",
    "        if last_message and last_message.text:\n",
    "            query = last_message.text.lower()\n",
    "            if any(word in query for word in [\"password\", \"secret\", \"credentials\"]):\n",
    "                print(\"[SecurityMiddleware] Security violation detected! Blocking request.\")\n",
    "                return  # Don't call next() to prevent execution\n",
    "\n",
    "        print(\"[SecurityMiddleware] Security check passed.\")\n",
    "        context.metadata[\"security_validated\"] = True\n",
    "        await next(context)"
   ]
  },
  {
   "cell_type": "markdown",
   "id": "0e4812ac",
   "metadata": {},
   "source": [
    "### 2. Performance Monitor (Function-Based)\n",
    "\n",
    "Tracks execution time for all runs."
   ]
  },
  {
   "cell_type": "code",
   "execution_count": null,
   "id": "5ef137d8",
   "metadata": {},
   "outputs": [],
   "source": [
    "async def performance_monitor_middleware(\n",
    "    context: AgentRunContext,\n",
    "    next: Callable[[AgentRunContext], Awaitable[None]],\n",
    ") -> None:\n",
    "    \"\"\"Agent-level performance monitoring for all runs.\"\"\"\n",
    "    print(\"[PerformanceMonitor] Starting performance monitoring...\")\n",
    "    start_time = time.time()\n",
    "\n",
    "    await next(context)\n",
    "\n",
    "    end_time = time.time()\n",
    "    duration = end_time - start_time\n",
    "    print(f\"[PerformanceMonitor] Total execution time: {duration:.3f}s\")\n",
    "    context.metadata[\"execution_time\"] = duration"
   ]
  },
  {
   "cell_type": "markdown",
   "id": "5a642d77",
   "metadata": {},
   "source": [
    "### 3. Function Logging Middleware\n",
    "\n",
    "Logs all function/tool invocations."
   ]
  },
  {
   "cell_type": "code",
   "execution_count": null,
   "id": "c064b90d",
   "metadata": {},
   "outputs": [],
   "source": [
    "async def function_logging_middleware(\n",
    "    context: FunctionInvocationContext,\n",
    "    next: Callable[[FunctionInvocationContext], Awaitable[None]],\n",
    ") -> None:\n",
    "    \"\"\"Function middleware that logs all function calls.\"\"\"\n",
    "    function_name = context.function.name\n",
    "    args = context.arguments\n",
    "    print(f\"[FunctionLog] Calling function: {function_name} with args: {args}\")\n",
    "\n",
    "    await next(context)\n",
    "\n",
    "    print(f\"[FunctionLog] Function {function_name} completed\")"
   ]
  },
  {
   "cell_type": "markdown",
   "id": "ef8d0cb7",
   "metadata": {},
   "source": [
    "## Run-Level Middleware Examples\n",
    "\n",
    "These middleware are applied to **specific runs only**."
   ]
  },
  {
   "cell_type": "markdown",
   "id": "bd663810",
   "metadata": {},
   "source": [
    "### 1. High Priority Middleware\n",
    "\n",
    "Handles high priority requests with expedited processing."
   ]
  },
  {
   "cell_type": "code",
   "execution_count": null,
   "id": "285ca63e",
   "metadata": {},
   "outputs": [],
   "source": [
    "class HighPriorityMiddleware(AgentMiddleware):\n",
    "    \"\"\"Run-level middleware for high priority requests.\"\"\"\n",
    "\n",
    "    async def process(self, context: AgentRunContext, next: Callable[[AgentRunContext], Awaitable[None]]) -> None:\n",
    "        print(\"[HighPriority] Processing high priority request with expedited handling...\")\n",
    "\n",
    "        # Read metadata set by agent-level middleware\n",
    "        if context.metadata.get(\"security_validated\"):\n",
    "            print(\"[HighPriority] Security validation confirmed from agent middleware\")\n",
    "\n",
    "        # Set high priority flag\n",
    "        context.metadata[\"priority\"] = \"high\"\n",
    "        context.metadata[\"expedited\"] = True\n",
    "\n",
    "        await next(context)\n",
    "        print(\"[HighPriority] High priority processing completed\")"
   ]
  },
  {
   "cell_type": "markdown",
   "id": "0b649e0b",
   "metadata": {},
   "source": [
    "### 2. Debugging Middleware\n",
    "\n",
    "Enables debug mode for troubleshooting specific runs."
   ]
  },
  {
   "cell_type": "code",
   "execution_count": null,
   "id": "1d18508c",
   "metadata": {},
   "outputs": [],
   "source": [
    "async def debugging_middleware(\n",
    "    context: AgentRunContext,\n",
    "    next: Callable[[AgentRunContext], Awaitable[None]],\n",
    ") -> None:\n",
    "    \"\"\"Run-level debugging middleware for troubleshooting specific runs.\"\"\"\n",
    "    print(\"[Debug] Debug mode enabled for this run\")\n",
    "    print(f\"[Debug] Messages count: {len(context.messages)}\")\n",
    "    print(f\"[Debug] Is streaming: {context.is_streaming}\")\n",
    "\n",
    "    # Log existing metadata from agent middleware\n",
    "    if context.metadata:\n",
    "        print(f\"[Debug] Existing metadata: {context.metadata}\")\n",
    "\n",
    "    context.metadata[\"debug_enabled\"] = True\n",
    "\n",
    "    await next(context)\n",
    "\n",
    "    print(\"[Debug] Debug information collected\")"
   ]
  },
  {
   "cell_type": "markdown",
   "id": "357ae5ec",
   "metadata": {},
   "source": [
    "### 3. Caching Middleware\n",
    "\n",
    "Caches results for expensive operations (run-specific)."
   ]
  },
  {
   "cell_type": "code",
   "execution_count": null,
   "id": "c66ed7a1",
   "metadata": {},
   "outputs": [],
   "source": [
    "class CachingMiddleware(AgentMiddleware):\n",
    "    \"\"\"Run-level caching middleware for expensive operations.\"\"\"\n",
    "\n",
    "    def __init__(self) -> None:\n",
    "        self.cache: dict[str, AgentRunResponse] = {}\n",
    "\n",
    "    async def process(self, context: AgentRunContext, next: Callable[[AgentRunContext], Awaitable[None]]) -> None:\n",
    "        # Create a simple cache key from the last message\n",
    "        last_message = context.messages[-1] if context.messages else None\n",
    "        cache_key: str = last_message.text if last_message and last_message.text else \"no_message\"\n",
    "\n",
    "        if cache_key in self.cache:\n",
    "            print(f\"[Cache] Cache HIT for: '{cache_key[:30]}...'\")\n",
    "            context.result = self.cache[cache_key]  # type: ignore\n",
    "            return  # Don't call next(), return cached result\n",
    "\n",
    "        print(f\"[Cache] Cache MISS for: '{cache_key[:30]}...'\")\n",
    "        context.metadata[\"cache_key\"] = cache_key\n",
    "\n",
    "        await next(context)\n",
    "\n",
    "        # Cache the result if we have one\n",
    "        if context.result:\n",
    "            self.cache[cache_key] = context.result  # type: ignore\n",
    "            print(\"[Cache] Result cached for future use\")"
   ]
  },
  {
   "cell_type": "markdown",
   "id": "d3d5876b",
   "metadata": {},
   "source": [
    "## Comprehensive Example: Agent with Multiple Runs\n",
    "\n",
    "This example demonstrates:\n",
    "1. Creating an agent with agent-level middleware\n",
    "2. Running the agent with different run-level middleware configurations\n",
    "3. How agent and run middleware interact"
   ]
  },
  {
   "cell_type": "code",
   "execution_count": null,
   "id": "e60a132b",
   "metadata": {},
   "outputs": [],
   "source": [
    "async def main() -> None:\n",
    "    \"\"\"Example demonstrating agent-level and run-level middleware.\"\"\"\n",
    "    print(\"=== Agent-Level and Run-Level Middleware Example ===\")\n",
    "    print()\n",
    "\n",
    "    async with (\n",
    "        AzureCliCredential() as credential,\n",
    "        AzureAIAgentClient(async_credential=credential).create_agent(\n",
    "            name=\"WeatherAgent\",\n",
    "            instructions=\"You are a helpful weather assistant.\",\n",
    "            tools=get_weather,\n",
    "            # Agent-level middleware: applied to ALL runs\n",
    "            middleware=[\n",
    "                SecurityAgentMiddleware(),\n",
    "                performance_monitor_middleware,\n",
    "                function_logging_middleware,\n",
    "            ],\n",
    "        ) as agent,\n",
    "    ):\n",
    "        print(\"Agent created with agent-level middleware:\")\n",
    "        print(\"   - SecurityMiddleware (blocks sensitive requests)\")\n",
    "        print(\"   - PerformanceMonitor (tracks execution time)\")\n",
    "        print(\"   - FunctionLogging (logs all function calls)\")\n",
    "        print()\n",
    "\n",
    "        # Run 1: Normal query with no run-level middleware\n",
    "        print(\"=\" * 60)\n",
    "        print(\"RUN 1: Normal query (agent-level middleware only)\")\n",
    "        print(\"=\" * 60)\n",
    "        query = \"What's the weather like in Paris?\"\n",
    "        print(f\"User: {query}\")\n",
    "        result = await agent.run(query)\n",
    "        print(f\"Agent: {result.text if result.text else 'No response'}\")\n",
    "        print()\n",
    "\n",
    "        # Run 2: High priority request with run-level middleware\n",
    "        print(\"=\" * 60)\n",
    "        print(\"RUN 2: High priority request (agent + run-level middleware)\")\n",
    "        print(\"=\" * 60)\n",
    "        query = \"What's the weather in Tokyo? This is urgent!\"\n",
    "        print(f\"User: {query}\")\n",
    "        result = await agent.run(\n",
    "            query,\n",
    "            middleware=HighPriorityMiddleware(),  # Run-level middleware\n",
    "        )\n",
    "        print(f\"Agent: {result.text if result.text else 'No response'}\")\n",
    "        print()\n",
    "\n",
    "        # Run 3: Debug mode with run-level debugging middleware\n",
    "        print(\"=\" * 60)\n",
    "        print(\"RUN 3: Debug mode (agent + run-level debugging)\")\n",
    "        print(\"=\" * 60)\n",
    "        query = \"What's the weather in London?\"\n",
    "        print(f\"User: {query}\")\n",
    "        result = await agent.run(\n",
    "            query,\n",
    "            middleware=[debugging_middleware],  # Run-level middleware\n",
    "        )\n",
    "        print(f\"Agent: {result.text if result.text else 'No response'}\")\n",
    "        print()\n",
    "\n",
    "        # Run 4: Multiple run-level middleware\n",
    "        print(\"=\" * 60)\n",
    "        print(\"RUN 4: Multiple run-level middleware (caching + debug)\")\n",
    "        print(\"=\" * 60)\n",
    "        caching = CachingMiddleware()\n",
    "        query = \"What's the weather in New York?\"\n",
    "        print(f\"User: {query}\")\n",
    "        result = await agent.run(\n",
    "            query,\n",
    "            middleware=[caching, debugging_middleware],  # Multiple run-level middleware\n",
    "        )\n",
    "        print(f\"Agent: {result.text if result.text else 'No response'}\")\n",
    "        print()\n",
    "\n",
    "        # Run 5: Test cache hit with same query\n",
    "        print(\"=\" * 60)\n",
    "        print(\"RUN 5: Test cache hit (same query as Run 4)\")\n",
    "        print(\"=\" * 60)\n",
    "        print(f\"User: {query}\")  # Same query as Run 4\n",
    "        result = await agent.run(\n",
    "            query,\n",
    "            middleware=[caching],  # Same caching middleware instance\n",
    "        )\n",
    "        print(f\"Agent: {result.text if result.text else 'No response'}\")\n",
    "        print()\n",
    "\n",
    "        # Run 6: Security violation test\n",
    "        print(\"=\" * 60)\n",
    "        print(\"RUN 6: Security test (should be blocked by agent middleware)\")\n",
    "        print(\"=\" * 60)\n",
    "        query = \"What's the secret weather password for Berlin?\"\n",
    "        print(f\"User: {query}\")\n",
    "        result = await agent.run(query)\n",
    "        print(f\"Agent: {result.text if result.text else 'Request was blocked by security middleware'}\")\n",
    "        print()\n",
    "\n",
    "        # Run 7: Normal query again (no run-level middleware interference)\n",
    "        print(\"=\" * 60)\n",
    "        print(\"RUN 7: Normal query again (agent-level middleware only)\")\n",
    "        print(\"=\" * 60)\n",
    "        query = \"What's the weather in Sydney?\"\n",
    "        print(f\"User: {query}\")\n",
    "        result = await agent.run(query)\n",
    "        print(f\"Agent: {result.text if result.text else 'No response'}\")\n",
    "        print()\n",
    "\n",
    "# Run the main function\n",
    "await main()"
   ]
  },
  {
   "cell_type": "markdown",
   "id": "73d48d6a",
   "metadata": {},
   "source": [
    "## Key Takeaways\n",
    "\n",
    "### Agent-Level Middleware\n",
    "- Applied to **ALL runs** of the agent\n",
    "- Configured once when creating the agent\n",
    "- Perfect for: security, monitoring, logging\n",
    "- Persistent across all runs\n",
    "\n",
    "### Run-Level Middleware\n",
    "- Applied to **specific runs** only\n",
    "- Configured per run\n",
    "- Perfect for: priority handling, debugging, caching\n",
    "- Isolated per request\n",
    "\n",
    "### Execution Order\n",
    "`Agent Middleware (outermost) \u2192 Run Middleware (innermost) \u2192 Agent Execution`\n",
    "\n"
   ]
  }
 ],
 "metadata": {
  "kernelspec": {
   "display_name": ".venv",
   "language": "python",
   "name": "python3"
  },
  "language_info": {
   "name": "python",
   "version": "3.12.10"
  }
 },
 "nbformat": 4,
 "nbformat_minor": 5
}