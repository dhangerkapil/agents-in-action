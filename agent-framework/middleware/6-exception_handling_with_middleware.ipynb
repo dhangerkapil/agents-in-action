{
 "cells": [
  {
   "cell_type": "markdown",
   "metadata": {},
   "source": [
    "# Exception Handling with Middleware\n",
    "\n",
    "This notebook demonstrates how to use middleware for robust error handling and recovery.\n",
    "\n",
    "## Key Concepts\n",
    "\n",
    "- **Error Catching**: Catch exceptions from tool invocations\n",
    "- **Graceful Degradation**: Provide fallback responses\n",
    "- **Error Logging**: Track failures for debugging\n",
    "\n",
    "## Prerequisites\n",
    "\n",
    "- Azure OpenAI endpoint and deployment configured in `.env`\n",
    "- `agent-framework` package installed\n",
    "- Azure CLI authentication"
   ]
  },
  {
   "cell_type": "code",
   "execution_count": null,
   "metadata": {},
   "outputs": [],
   "source": [
    "import os\n",
    "from dotenv import load_dotenv\n",
    "\n",
    "load_dotenv('../.env')\n",
    "\n",
    "project_endpoint = os.getenv(\"AZURE_AI_PROJECT_ENDPOINT\")\n",
    "model_deployment_name = os.getenv(\"AZURE_AI_MODEL_DEPLOYMENT_NAME\")\n",
    "\n",
    "print(f\"Project Endpoint: {project_endpoint}\")\n",
    "print(f\"Model Deployment: {model_deployment_name}\")"
   ]
  },
  {
   "cell_type": "code",
   "execution_count": null,
   "metadata": {},
   "outputs": [],
   "source": [
    "from collections.abc import Awaitable, Callable\n",
    "from typing import Annotated\n",
    "from agent_framework import AgentMiddleware, FunctionInvocationContext\n",
    "from agent_framework.azure import AzureAIAgentClient\n",
    "from azure.identity.aio import AzureCliCredential\n",
    "from pydantic import Field"
   ]
  },
  {
   "cell_type": "markdown",
   "metadata": {},
   "source": [
    "## Define Unstable Data Service Tool\n",
    "\n",
    "This simulated data service demonstrates exception handling by throwing a TimeoutError."
   ]
  },
  {
   "cell_type": "code",
   "execution_count": null,
   "metadata": {},
   "outputs": [],
   "source": [
    "def unstable_data_service(\n",
    "    query: Annotated[str, Field(description=\"The data query to execute.\")],\n",
    ") -> str:\n",
    "    \"\"\"A simulated data service that sometimes throws exceptions.\"\"\"\n",
    "    # Simulate failure\n",
    "    raise TimeoutError(\"Data service request timed out\")"
   ]
  },
  {
   "cell_type": "markdown",
   "metadata": {},
   "source": [
    "## Exception Handling Middleware\n",
    "\n",
    "This middleware demonstrates:\n",
    "- Catching exceptions thrown by functions\n",
    "- Providing graceful error responses\n",
    "- Overriding function results when errors occur\n",
    "- Implementing centralized exception handling"
   ]
  },
  {
   "cell_type": "code",
   "execution_count": null,
   "metadata": {},
   "outputs": [],
   "source": [
    "async def exception_handling_middleware(\n",
    "    context: FunctionInvocationContext, next: Callable[[FunctionInvocationContext], Awaitable[None]]\n",
    ") -> None:\n",
    "    function_name = context.function.name\n",
    "\n",
    "    try:\n",
    "        print(f\"[ExceptionHandlingMiddleware] Executing function: {function_name}\")\n",
    "        await next(context)\n",
    "        print(f\"[ExceptionHandlingMiddleware] Function {function_name} completed successfully.\")\n",
    "    except TimeoutError as e:\n",
    "        print(f\"[ExceptionHandlingMiddleware] Caught TimeoutError: {e}\")\n",
    "        # Override function result to provide custom message in response.\n",
    "        context.result = (\n",
    "            \"Request Timeout: The data service is taking longer than expected to respond.\",\n",
    "            \"Respond with message - 'Sorry for the inconvenience, please try again later.'\",\n",
    "        )"
   ]
  },
  {
   "cell_type": "markdown",
   "metadata": {},
   "source": [
    "## Example: Using Exception Handling Middleware"
   ]
  },
  {
   "cell_type": "code",
   "execution_count": null,
   "metadata": {},
   "outputs": [],
   "source": [
    "async def main():\n",
    "    \"\"\"Example demonstrating exception handling with middleware.\"\"\"\n",
    "    print(\"=== Exception Handling Middleware Example ===\")\n",
    "    \n",
    "    async with (\n",
    "        AzureCliCredential() as credential,\n",
    "        AzureAIAgentClient(async_credential=credential).create_agent(\n",
    "            name=\"DataAgent\",\n",
    "            instructions=\"You are a helpful data assistant. Use the data service tool to fetch information for users.\",\n",
    "            tools=unstable_data_service,\n",
    "            middleware=exception_handling_middleware,\n",
    "        ) as agent,\n",
    "    ):\n",
    "        query = \"Get user statistics\"\n",
    "        print(f\"User: {query}\")\n",
    "        result = await agent.run(query)\n",
    "        print(f\"Agent: {result}\")\n",
    "\n",
    "await main()"
   ]
  },
  {
   "cell_type": "markdown",
   "metadata": {},
   "source": [
    "## Key Takeaways\n",
    "\n",
    "- Middleware can catch exceptions and provide graceful error handling\n",
    "- Use try-except blocks to catch specific error types (like TimeoutError)\n",
    "- Override `context.result` to provide user-friendly error messages\n",
    "- Centralized exception handling prevents raw exceptions from reaching end users\n",
    "- Can implement retry logic, fallback mechanisms, or error reporting\n",
    "\n",
    "## Next Steps\n",
    "\n",
    "- **Middleware termination** (notebook 7) for early exit scenarios\n",
    "- **Result override** (notebook 8) for modifying outcomes"
   ]
  }
 ],
 "metadata": {
  "kernelspec": {
   "display_name": ".venv",
   "language": "python",
   "name": "python3"
  },
  "language_info": {
   "codemirror_mode": {
    "name": "ipython",
    "version": 3
   },
   "file_extension": ".py",
   "mimetype": "text/x-python",
   "name": "python",
   "nbconvert_exporter": "python",
   "pygments_lexer": "ipython3",
   "version": "3.12.10"
  }
 },
 "nbformat": 4,
 "nbformat_minor": 2
}