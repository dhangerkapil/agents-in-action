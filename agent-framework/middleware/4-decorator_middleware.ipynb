{
 "cells": [
  {
   "cell_type": "markdown",
   "metadata": {},
   "source": [
    "# Decorator Middleware\n",
    "\n",
    "This notebook demonstrates how to use @agent_middleware and @function_middleware decorators.\n",
    "\n",
    "## Key Concepts\n",
    "\n",
    "- **No Type Annotations Needed**: Use decorators without parameter types\n",
    "- **Explicit Middleware Type**: Decorator marks the middleware type\n",
    "- **Framework Handles Context**: Framework automatically provides correct context types\n",
    "\n",
    "## Prerequisites\n",
    "\n",
    "- Azure AI Foundry project endpoint configured in `.env`\n",
    "- `agent-framework` package installed\n",
    "- Azure CLI authentication"
   ]
  },
  {
   "cell_type": "code",
   "execution_count": 6,
   "metadata": {},
   "outputs": [
    {
     "name": "stdout",
     "output_type": "stream",
     "text": [
      "Project Endpoint: https://kd-foundry-project-resource.services.ai.azure.com/api/projects/kd-foundry-project\n",
      "Model Deployment: gpt-4o\n"
     ]
    }
   ],
   "source": [
    "import os\n",
    "from dotenv import load_dotenv\n",
    "\n",
    "load_dotenv('../.env')\n",
    "\n",
    "project_endpoint = os.getenv(\"AZURE_AI_PROJECT_ENDPOINT\")\n",
    "model_deployment_name = os.getenv(\"AZURE_AI_MODEL_DEPLOYMENT_NAME\")\n",
    "\n",
    "print(f\"Project Endpoint: {project_endpoint}\")\n",
    "print(f\"Model Deployment: {model_deployment_name}\")"
   ]
  },
  {
   "cell_type": "code",
   "execution_count": 7,
   "metadata": {},
   "outputs": [],
   "source": [
    "import datetime\n",
    "\n",
    "from agent_framework import (\n",
    "    agent_middleware,\n",
    "    function_middleware,\n",
    ")\n",
    "from agent_framework.azure import AzureAIAgentClient\n",
    "from azure.identity.aio import AzureCliCredential"
   ]
  },
  {
   "cell_type": "markdown",
   "metadata": {},
   "source": [
    "## Define Tool Function"
   ]
  },
  {
   "cell_type": "code",
   "execution_count": 8,
   "metadata": {},
   "outputs": [],
   "source": [
    "def get_current_time() -> str:\n",
    "    \"\"\"Get the current time.\"\"\"\n",
    "    return f\"Current time is {datetime.datetime.now().strftime('%H:%M:%S')}\""
   ]
  },
  {
   "cell_type": "markdown",
   "metadata": {},
   "source": [
    "## Decorator-Based Middleware\n",
    "\n",
    "This sample demonstrates how to use @agent_middleware and @function_middleware decorators\n",
    "to explicitly mark middleware functions without requiring type annotations.\n",
    "\n",
    "The framework supports the following middleware detection scenarios:\n",
    "\n",
    "1. Both decorator and parameter type specified:\n",
    "   - Validates that they match (e.g., @agent_middleware with AgentRunContext)\n",
    "   - Throws exception if they don't match for safety\n",
    "\n",
    "2. Only decorator specified:\n",
    "   - Relies on decorator to determine middleware type\n",
    "   - No type annotations needed - framework handles context types automatically\n",
    "\n",
    "3. Only parameter type specified:\n",
    "   - Uses type annotations (AgentRunContext, FunctionInvocationContext) for detection\n",
    "\n",
    "4. Neither decorator nor parameter type specified:\n",
    "   - Throws exception requiring either decorator or type annotation\n",
    "   - Prevents ambiguous middleware that can't be properly classified\n",
    "\n",
    "Key benefits of decorator approach:\n",
    "- No type annotations needed (simpler syntax)\n",
    "- Explicit middleware type declaration\n",
    "- Clear intent in code\n",
    "- Prevents type mismatches"
   ]
  },
  {
   "cell_type": "code",
   "execution_count": 9,
   "metadata": {},
   "outputs": [],
   "source": [
    "@agent_middleware  # Decorator marks this as agent middleware - no type annotations needed\n",
    "async def simple_agent_middleware(context, next):  # type: ignore - parameters intentionally untyped to demonstrate decorator functionality\n",
    "    \"\"\"Agent middleware that runs before and after agent execution.\"\"\"\n",
    "    print(\"[Agent Middleware] Before agent execution\")\n",
    "    await next(context)\n",
    "    print(\"[Agent Middleware] After agent execution\")\n",
    "\n",
    "\n",
    "@function_middleware  # Decorator marks this as function middleware - no type annotations needed\n",
    "async def simple_function_middleware(context, next):  # type: ignore - parameters intentionally untyped to demonstrate decorator functionality\n",
    "    \"\"\"Function middleware that runs before and after function calls.\"\"\"\n",
    "    print(f\"[Function Middleware] Before calling: {context.function.name}\")  # type: ignore\n",
    "    await next(context)\n",
    "    print(f\"[Function Middleware] After calling: {context.function.name}\")  # type: ignore"
   ]
  },
  {
   "cell_type": "markdown",
   "metadata": {},
   "source": [
    "## Example: Using Decorator Middleware"
   ]
  },
  {
   "cell_type": "code",
   "execution_count": 10,
   "metadata": {},
   "outputs": [
    {
     "name": "stdout",
     "output_type": "stream",
     "text": [
      "=== Decorator Middleware Example ===\n",
      "User: What time is it?\n",
      "[Agent Middleware] Before agent execution\n"
     ]
    },
    {
     "name": "stderr",
     "output_type": "stream",
     "text": [
      "[2025-10-25 01:23:38 - c:\\Users\\kapildhanger\\OneDrive - Microsoft\\Microsoft_Kapil\\AzureCustomers\\Everest\\NYC_Workshop\\ai-foundry-e2e-lab\\.venv\\Lib\\site-packages\\agent_framework\\_clients.py:609 - WARNING] When conversation_id is set, store must be True for service-managed threads. Automatically setting store=True.\n"
     ]
    },
    {
     "name": "stdout",
     "output_type": "stream",
     "text": [
      "[Function Middleware] Before calling: get_current_time\n",
      "[Function Middleware] After calling: get_current_time\n",
      "[Agent Middleware] After agent execution\n",
      "Agent: The current time is 01:23:38.\n",
      "[Agent Middleware] After agent execution\n",
      "Agent: The current time is 01:23:38.\n"
     ]
    }
   ],
   "source": [
    "async def main():\n",
    "    \"\"\"Example demonstrating decorator-based middleware.\"\"\"\n",
    "    print(\"=== Decorator Middleware Example ===\")\n",
    "    \n",
    "    async with (\n",
    "        AzureCliCredential() as credential,\n",
    "        AzureAIAgentClient(async_credential=credential).create_agent(\n",
    "            name=\"TimeAgent\",\n",
    "            instructions=\"You are a helpful time assistant. Call get_current_time when asked about time.\",\n",
    "            tools=get_current_time,\n",
    "            middleware=[simple_agent_middleware, simple_function_middleware],\n",
    "        ) as agent,\n",
    "    ):\n",
    "        query = \"What time is it?\"\n",
    "        print(f\"User: {query}\")\n",
    "        result = await agent.run(query)\n",
    "        print(f\"Agent: {result.text if result.text else 'No response'}\")\n",
    "\n",
    "await main()"
   ]
  },
  {
   "cell_type": "markdown",
   "metadata": {},
   "source": [
    "## Key Takeaways\n",
    "\n",
    "- Decorators (@agent_middleware, @function_middleware) explicitly mark middleware type\n",
    "- No type annotations needed when using decorators\n",
    "- Framework automatically provides correct context types\n",
    "- Prevents type mismatches and ambiguous middleware\n",
    "- Simpler and cleaner syntax\n",
    "\n",
    "## Next Steps\n",
    "\n",
    "- **Chat middleware** (notebook 5) for message-level interception\n",
    "- **Exception handling** (notebook 6) for error management"
   ]
  }
 ],
 "metadata": {
  "kernelspec": {
   "display_name": "Python 3",
   "language": "python",
   "name": "python3"
  },
  "language_info": {
   "name": "python",
   "version": "3.11.0"
  }
 },
 "nbformat": 4,
 "nbformat_minor": 2
}