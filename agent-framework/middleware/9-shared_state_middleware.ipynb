{
 "cells": [
  {
   "cell_type": "markdown",
   "metadata": {},
   "source": [
    "# Shared State Middleware\n",
    "\n",
    "This notebook demonstrates how middleware can share state and communicate with each other.\n",
    "\n",
    "## Key Concepts\n",
    "\n",
    "- **Context Sharing**: Pass data between middleware\n",
    "- **State Management**: Maintain shared state across invocations\n",
    "- **Coordination**: Multiple middleware working together\n",
    "\n",
    "## Prerequisites\n",
    "\n",
    "- Azure OpenAI endpoint and deployment configured in `.env`\n",
    "- `agent-framework` package installed\n",
    "- Azure CLI authentication"
   ]
  },
  {
   "cell_type": "code",
   "execution_count": null,
   "metadata": {},
   "outputs": [],
   "source": [
    "import os\n",
    "from dotenv import load_dotenv\n",
    "\n",
    "load_dotenv('../.env')\n",
    "\n",
    "project_endpoint = os.getenv(\"AZURE_AI_PROJECT_ENDPOINT\")\n",
    "model_deployment_name = os.getenv(\"AZURE_AI_MODEL_DEPLOYMENT_NAME\")\n",
    "\n",
    "print(f\"Project Endpoint: {project_endpoint}\")\n",
    "print(f\"Model Deployment: {model_deployment_name}\")"
   ]
  },
  {
   "cell_type": "code",
   "execution_count": null,
   "metadata": {},
   "outputs": [],
   "source": [
    "from collections.abc import Awaitable, Callable\n",
    "from random import randint\n",
    "from typing import Annotated\n",
    "\n",
    "from agent_framework import FunctionInvocationContext\n",
    "from agent_framework.azure import AzureAIAgentClient\n",
    "from azure.identity.aio import AzureCliCredential\n",
    "from pydantic import Field"
   ]
  },
  {
   "cell_type": "markdown",
   "metadata": {},
   "source": [
    "## Define Tool Functions"
   ]
  },
  {
   "cell_type": "code",
   "execution_count": null,
   "metadata": {},
   "outputs": [],
   "source": [
    "def get_weather(\n",
    "    location: Annotated[str, Field(description=\"The location to get the weather for.\")],\n",
    ") -> str:\n",
    "    \"\"\"Get the weather for a given location.\"\"\"\n",
    "    conditions = [\"sunny\", \"cloudy\", \"rainy\", \"stormy\"]\n",
    "    return f\"The weather in {location} is {conditions[randint(0, 3)]} with a high of {randint(10, 30)}\u00b0C.\"\n",
    "\n",
    "\n",
    "def get_time(\n",
    "    timezone: Annotated[str, Field(description=\"The timezone to get the time for.\")] = \"UTC\",\n",
    ") -> str:\n",
    "    \"\"\"Get the current time for a given timezone.\"\"\"\n",
    "    import datetime\n",
    "    \n",
    "    return f\"The current time in {timezone} is {datetime.datetime.now().strftime('%H:%M:%S')}\""
   ]
  },
  {
   "cell_type": "markdown",
   "metadata": {},
   "source": [
    "## Middleware Container with Shared State\n",
    "\n",
    "This class demonstrates:\n",
    "- Holding multiple middleware functions in a single class\n",
    "- Sharing state (call_count) between middleware functions\n",
    "- First middleware counts calls, second middleware uses the count to enhance results"
   ]
  },
  {
   "cell_type": "code",
   "execution_count": null,
   "metadata": {},
   "outputs": [],
   "source": [
    "class MiddlewareContainer:\n",
    "    \"\"\"Container class that holds middleware functions with shared state.\"\"\"\n",
    "\n",
    "    def __init__(self) -> None:\n",
    "        # Simple shared state: count function calls\n",
    "        self.call_count: int = 0\n",
    "\n",
    "    async def call_counter_middleware(\n",
    "        self,\n",
    "        context: FunctionInvocationContext,\n",
    "        next: Callable[[FunctionInvocationContext], Awaitable[None]],\n",
    "    ) -> None:\n",
    "        \"\"\"First middleware: increments call count in shared state.\"\"\"\n",
    "        # Increment the shared call count\n",
    "        self.call_count += 1\n",
    "\n",
    "        print(f\"[CallCounter] This is function call #{self.call_count}\")\n",
    "\n",
    "        # Call the next middleware/function\n",
    "        await next(context)\n",
    "\n",
    "    async def result_enhancer_middleware(\n",
    "        self,\n",
    "        context: FunctionInvocationContext,\n",
    "        next: Callable[[FunctionInvocationContext], Awaitable[None]],\n",
    "    ) -> None:\n",
    "        \"\"\"Second middleware: uses shared call count to enhance function results.\"\"\"\n",
    "        print(f\"[ResultEnhancer] Current total calls so far: {self.call_count}\")\n",
    "\n",
    "        # Call the next middleware/function\n",
    "        await next(context)\n",
    "\n",
    "        # After function execution, enhance the result using shared state\n",
    "        if context.result:\n",
    "            enhanced_result = f\"[Call #{self.call_count}] {context.result}\"\n",
    "            context.result = enhanced_result\n",
    "            print(\"[ResultEnhancer] Enhanced result with call number\")"
   ]
  },
  {
   "cell_type": "markdown",
   "metadata": {},
   "source": [
    "## Example: Shared State Function-based Middleware"
   ]
  },
  {
   "cell_type": "code",
   "execution_count": null,
   "metadata": {},
   "outputs": [],
   "source": [
    "async def main():\n",
    "    \"\"\"Example demonstrating shared state function-based middleware.\"\"\"\n",
    "    print(\"=== Shared State Function-based Middleware Example ===\")\n",
    "\n",
    "    # Create middleware container with shared state\n",
    "    middleware_container = MiddlewareContainer()\n",
    "    \n",
    "    async with (\n",
    "        AzureCliCredential() as credential,\n",
    "        AzureAIAgentClient(async_credential=credential).create_agent(\n",
    "            name=\"UtilityAgent\",\n",
    "            instructions=\"You are a helpful assistant that can provide weather information and current time.\",\n",
    "            tools=[get_weather, get_time],\n",
    "            # Pass both middleware functions from the same container instance\n",
    "            # Order matters: counter runs first to increment count,\n",
    "            # then result enhancer uses the updated count\n",
    "            middleware=[\n",
    "                middleware_container.call_counter_middleware,\n",
    "                middleware_container.result_enhancer_middleware,\n",
    "            ],\n",
    "        ) as agent,\n",
    "    ):\n",
    "        # Test multiple requests to see shared state in action\n",
    "        queries = [\n",
    "            \"What's the weather like in New York?\",\n",
    "            \"What time is it in London?\",\n",
    "            \"What's the weather in Tokyo?\",\n",
    "        ]\n",
    "\n",
    "        for i, query in enumerate(queries, 1):\n",
    "            print(f\"\\n--- Query {i} ---\")\n",
    "            print(f\"User: {query}\")\n",
    "            result = await agent.run(query)\n",
    "            print(f\"Agent: {result.text if result.text else 'No response'}\")\n",
    "\n",
    "        # Display final statistics\n",
    "        print(\"\\n=== Final Statistics ===\")\n",
    "        print(f\"Total function calls made: {middleware_container.call_count}\")\n",
    "\n",
    "await main()"
   ]
  },
  {
   "cell_type": "markdown",
   "metadata": {},
   "source": [
    "## Key Takeaways\n",
    "\n",
    "- Function-based middleware can share state through a container class\n",
    "- Multiple middleware functions are instance methods of the same class\n",
    "- Shared state is stored as class instance variables (e.g., `self.call_count`)\n",
    "- Middleware execution order matters when working with shared state\n",
    "- First middleware increments count, second middleware uses it\n",
    "- Useful for metrics collection, coordination, and stateful operations\n",
    "\n",
    "## Summary\n",
    "\n",
    "You've now learned all the middleware patterns:\n",
    "1. **Agent vs Run level** - Apply middleware globally or per-run\n",
    "2. **Function-based** - Simple async functions for middleware\n",
    "3. **Class-based** - AgentMiddleware and FunctionMiddleware classes\n",
    "4. **Decorator** - @agent_middleware and @function_middleware decorators\n",
    "5. **Chat** - ChatMiddleware for message-level interception\n",
    "6. **Exception handling** - Catch and handle errors gracefully\n",
    "7. **Termination** - Early exit with context.terminate\n",
    "8. **Result override** - Modify results for streaming and non-streaming\n",
    "9. **Shared state** - Container class with multiple middleware functions\n",
    "\n",
    "These patterns can be combined to build powerful and flexible agent systems!"
   ]
  }
 ],
 "metadata": {
  "kernelspec": {
   "display_name": ".venv",
   "language": "python",
   "name": "python3"
  },
  "language_info": {
   "codemirror_mode": {
    "name": "ipython",
    "version": 3
   },
   "file_extension": ".py",
   "mimetype": "text/x-python",
   "name": "python",
   "nbconvert_exporter": "python",
   "pygments_lexer": "ipython3",
   "version": "3.12.10"
  }
 },
 "nbformat": 4,
 "nbformat_minor": 2
}