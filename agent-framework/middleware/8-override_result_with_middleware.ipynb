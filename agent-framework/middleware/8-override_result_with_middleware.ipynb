{
 "cells": [
  {
   "cell_type": "markdown",
   "metadata": {},
   "source": [
    "# Override Result with Middleware\n",
    "\n",
    "This notebook demonstrates how middleware can modify or override function results.\n",
    "\n",
    "## Key Concepts\n",
    "\n",
    "- **Result Transformation**: Modify function outputs before returning\n",
    "- **Result Enrichment**: Add metadata or additional information\n",
    "- **Result Validation**: Ensure outputs meet quality standards\n",
    "\n",
    "## Prerequisites\n",
    "\n",
    "- Azure OpenAI endpoint and deployment configured in `.env`\n",
    "- `agent-framework` package installed\n",
    "- Azure CLI authentication"
   ]
  },
  {
   "cell_type": "code",
   "execution_count": null,
   "metadata": {},
   "outputs": [],
   "source": [
    "import os\n",
    "from dotenv import load_dotenv\n",
    "\n",
    "load_dotenv('../.env')\n",
    "\n",
    "project_endpoint = os.getenv(\"AZURE_AI_PROJECT_ENDPOINT\")\n",
    "model_deployment_name = os.getenv(\"AZURE_AI_MODEL_DEPLOYMENT_NAME\")\n",
    "\n",
    "print(f\"Project Endpoint: {project_endpoint}\")\n",
    "print(f\"Model Deployment: {model_deployment_name}\")"
   ]
  },
  {
   "cell_type": "code",
   "execution_count": null,
   "metadata": {},
   "outputs": [],
   "source": [
    "from collections.abc import AsyncIterable, Awaitable, Callable\n",
    "from random import randint\n",
    "from typing import Annotated\n",
    "\n",
    "from agent_framework import (\n",
    "    AgentRunContext,\n",
    "    AgentRunResponse,\n",
    "    AgentRunResponseUpdate,\n",
    "    ChatMessage,\n",
    "    Role,\n",
    "    TextContent,\n",
    ")\n",
    "from agent_framework.azure import AzureAIAgentClient\n",
    "from azure.identity.aio import AzureCliCredential\n",
    "from pydantic import Field"
   ]
  },
  {
   "cell_type": "markdown",
   "metadata": {},
   "source": [
    "## Define Weather Tool Function"
   ]
  },
  {
   "cell_type": "code",
   "execution_count": null,
   "metadata": {},
   "outputs": [],
   "source": [
    "def get_weather(\n",
    "    location: Annotated[str, Field(description=\"The location to get the weather for.\")],\n",
    ") -> str:\n",
    "    \"\"\"Get the weather for a given location.\"\"\"\n",
    "    conditions = [\"sunny\", \"cloudy\", \"rainy\", \"stormy\"]\n",
    "    return f\"The weather in {location} is {conditions[randint(0, 3)]} with a high of {randint(10, 30)}\u00b0C.\""
   ]
  },
  {
   "cell_type": "markdown",
   "metadata": {},
   "source": [
    "## Result Override Middleware\n",
    "\n",
    "This middleware demonstrates how to:\n",
    "- Execute the original function first\n",
    "- Override results for both streaming and non-streaming responses\n",
    "- Use `context.is_streaming` to detect the execution mode\n",
    "- Create custom async generators for streaming overrides"
   ]
  },
  {
   "cell_type": "code",
   "execution_count": null,
   "metadata": {},
   "outputs": [],
   "source": [
    "async def weather_override_middleware(\n",
    "    context: AgentRunContext, next: Callable[[AgentRunContext], Awaitable[None]]\n",
    ") -> None:\n",
    "    \"\"\"Middleware that overrides weather results for both streaming and non-streaming cases.\"\"\"\n",
    "\n",
    "    # Let the original agent execution complete first\n",
    "    await next(context)\n",
    "\n",
    "    # Check if there's a result to override (agent called weather function)\n",
    "    if context.result is not None:\n",
    "        # Create custom weather message\n",
    "        chunks = [\n",
    "            \"Weather Advisory - \",\n",
    "            \"due to special atmospheric conditions, \",\n",
    "            \"all locations are experiencing perfect weather today! \",\n",
    "            \"Temperature is a comfortable 22\u00b0C with gentle breezes. \",\n",
    "            \"Perfect day for outdoor activities!\",\n",
    "        ]\n",
    "\n",
    "        if context.is_streaming:\n",
    "            # For streaming: create an async generator that yields chunks\n",
    "            async def override_stream() -> AsyncIterable[AgentRunResponseUpdate]:\n",
    "                for chunk in chunks:\n",
    "                    yield AgentRunResponseUpdate(contents=[TextContent(text=chunk)])\n",
    "\n",
    "            context.result = override_stream()\n",
    "        else:\n",
    "            # For non-streaming: just replace with the string message\n",
    "            custom_message = \"\".join(chunks)\n",
    "            context.result = AgentRunResponse(messages=[ChatMessage(role=Role.ASSISTANT, text=custom_message)])"
   ]
  },
  {
   "cell_type": "markdown",
   "metadata": {},
   "source": [
    "## Example: Non-streaming Result Override"
   ]
  },
  {
   "cell_type": "code",
   "execution_count": null,
   "metadata": {},
   "outputs": [],
   "source": [
    "async def non_streaming_example():\n",
    "    \"\"\"Example demonstrating result override with middleware for non-streaming.\"\"\"\n",
    "    print(\"--- Non-streaming Example ---\")\n",
    "    \n",
    "    async with (\n",
    "        AzureCliCredential() as credential,\n",
    "        AzureAIAgentClient(async_credential=credential).create_agent(\n",
    "            name=\"WeatherAgent\",\n",
    "            instructions=\"You are a helpful weather assistant. Use the weather tool to get current conditions.\",\n",
    "            tools=get_weather,\n",
    "            middleware=weather_override_middleware,\n",
    "        ) as agent,\n",
    "    ):\n",
    "        query = \"What's the weather like in Seattle?\"\n",
    "        print(f\"User: {query}\")\n",
    "        result = await agent.run(query)\n",
    "        print(f\"Agent: {result}\")\n",
    "\n",
    "await non_streaming_example()"
   ]
  },
  {
   "cell_type": "markdown",
   "metadata": {},
   "source": [
    "## Example: Streaming Result Override"
   ]
  },
  {
   "cell_type": "code",
   "execution_count": null,
   "metadata": {},
   "outputs": [],
   "source": [
    "async def streaming_example():\n",
    "    \"\"\"Example demonstrating result override with middleware for streaming.\"\"\"\n",
    "    print(\"\\n--- Streaming Example ---\")\n",
    "    \n",
    "    async with (\n",
    "        AzureCliCredential() as credential,\n",
    "        AzureAIAgentClient(async_credential=credential).create_agent(\n",
    "            name=\"WeatherAgent\",\n",
    "            instructions=\"You are a helpful weather assistant. Use the weather tool to get current conditions.\",\n",
    "            tools=get_weather,\n",
    "            middleware=weather_override_middleware,\n",
    "        ) as agent,\n",
    "    ):\n",
    "        query = \"What's the weather like in Portland?\"\n",
    "        print(f\"User: {query}\")\n",
    "        print(\"Agent: \", end=\"\", flush=True)\n",
    "        async for chunk in agent.run_stream(query):\n",
    "            if chunk.text:\n",
    "                print(chunk.text, end=\"\", flush=True)\n",
    "        print()  # New line after streaming\n",
    "\n",
    "await streaming_example()"
   ]
  },
  {
   "cell_type": "markdown",
   "metadata": {},
   "source": [
    "## Key Takeaways\n",
    "\n",
    "- Middleware can override agent results after execution using `context.result`\n",
    "- Execute the original function first with `await next(context)`, then override\n",
    "- Use `context.is_streaming` to detect streaming vs non-streaming execution\n",
    "- For streaming: create async generator that yields `AgentRunResponseUpdate` objects\n",
    "- For non-streaming: replace with `AgentRunResponse` containing custom messages\n",
    "- Useful for result filtering, formatting, enhancement, or providing alternative responses\n",
    "\n",
    "## Next Steps\n",
    "\n",
    "- **Shared state** (notebook 9) for cross-middleware communication"
   ]
  }
 ],
 "metadata": {
  "kernelspec": {
   "display_name": ".venv",
   "language": "python",
   "name": "python3"
  },
  "language_info": {
   "codemirror_mode": {
    "name": "ipython",
    "version": 3
   },
   "file_extension": ".py",
   "mimetype": "text/x-python",
   "name": "python",
   "nbconvert_exporter": "python",
   "pygments_lexer": "ipython3",
   "version": "3.12.10"
  }
 },
 "nbformat": 4,
 "nbformat_minor": 2
}