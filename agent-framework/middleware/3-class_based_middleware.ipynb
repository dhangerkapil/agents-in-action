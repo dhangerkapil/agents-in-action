{
 "cells": [
  {
   "cell_type": "markdown",
   "metadata": {},
   "source": [
    "# Class-Based Middleware\n",
    "\n",
    "This notebook demonstrates how to create middleware using classes that implement the `AgentMiddleware` interface.\n",
    "\n",
    "## Key Concepts\n",
    "\n",
    "- **Stateful Middleware**: Classes can maintain state across invocations\n",
    "- **Multiple Hooks**: Can override multiple lifecycle methods\n",
    "- **Reusability**: Class instances can be reused across agents\n",
    "\n",
    "## Prerequisites\n",
    "\n",
    "- Azure OpenAI endpoint and deployment configured in `.env`\n",
    "- `agent-framework` package installed\n",
    "- Azure CLI authentication"
   ]
  },
  {
   "cell_type": "code",
   "execution_count": null,
   "metadata": {},
   "outputs": [],
   "source": [
    "import os\n",
    "from dotenv import load_dotenv\n",
    "\n",
    "load_dotenv('../.env')\n",
    "\n",
    "project_endpoint = os.getenv(\"AZURE_AI_PROJECT_ENDPOINT\")\n",
    "model_deployment_name = os.getenv(\"AZURE_AI_MODEL_DEPLOYMENT_NAME\")\n",
    "\n",
    "print(f\"Project Endpoint: {project_endpoint}\")\n",
    "print(f\"Model Deployment: {model_deployment_name}\")"
   ]
  },
  {
   "cell_type": "code",
   "execution_count": null,
   "metadata": {},
   "outputs": [],
   "source": [
    "import time\n",
    "from collections.abc import Awaitable, Callable\n",
    "from random import randint\n",
    "from typing import Annotated\n",
    "\n",
    "from agent_framework import (\n",
    "    AgentMiddleware,\n",
    "    AgentRunContext,\n",
    "    AgentRunResponse,\n",
    "    ChatMessage,\n",
    "    FunctionInvocationContext,\n",
    "    FunctionMiddleware,\n",
    "    Role,\n",
    ")\n",
    "from agent_framework.azure import AzureAIAgentClient\n",
    "from azure.identity.aio import AzureCliCredential\n",
    "from pydantic import Field"
   ]
  },
  {
   "cell_type": "markdown",
   "metadata": {},
   "source": [
    "## Define Tool Function"
   ]
  },
  {
   "cell_type": "code",
   "execution_count": null,
   "metadata": {},
   "outputs": [],
   "source": [
    "def get_weather(\n",
    "    location: Annotated[str, Field(description=\"The location to get the weather for.\")],\n",
    ") -> str:\n",
    "    \"\"\"Get the weather for a given location.\"\"\"\n",
    "    conditions = [\"sunny\", \"cloudy\", \"rainy\", \"stormy\"]\n",
    "    return f\"The weather in {location} is {conditions[randint(0, 3)]} with a high of {randint(10, 30)}\u00c2\u00b0C.\""
   ]
  },
  {
   "cell_type": "markdown",
   "metadata": {},
   "source": [
    "## Class-Based Middleware Examples\n",
    "\n",
    "This demonstrates two types of class-based middleware:\n",
    "- **SecurityAgentMiddleware**: Checks for security violations and blocks sensitive requests\n",
    "- **LoggingFunctionMiddleware**: Logs function execution with timing information"
   ]
  },
  {
   "cell_type": "code",
   "execution_count": null,
   "metadata": {},
   "outputs": [],
   "source": [
    "class SecurityAgentMiddleware(AgentMiddleware):\n",
    "    \"\"\"Agent middleware that checks for security violations.\"\"\"\n",
    "\n",
    "    async def process(\n",
    "        self,\n",
    "        context: AgentRunContext,\n",
    "        next: Callable[[AgentRunContext], Awaitable[None]],\n",
    "    ) -> None:\n",
    "        # Check for potential security violations in the query\n",
    "        last_message = context.messages[-1] if context.messages else None\n",
    "        if last_message and last_message.text:\n",
    "            query = last_message.text\n",
    "            if \"password\" in query.lower() or \"secret\" in query.lower():\n",
    "                print(\"[SecurityMiddleware] Security Warning: Detected sensitive information, blocking request.\")\n",
    "                # Override the result with warning message\n",
    "                context.result = AgentRunResponse(\n",
    "                    messages=[\n",
    "                        ChatMessage(role=Role.ASSISTANT, text=\"Detected sensitive information, the request is blocked.\")\n",
    "                    ]\n",
    "                )\n",
    "                # Don't call next() to prevent execution\n",
    "                return\n",
    "\n",
    "        print(\"[SecurityMiddleware] Security check passed.\")\n",
    "        await next(context)\n",
    "\n",
    "\n",
    "class LoggingFunctionMiddleware(FunctionMiddleware):\n",
    "    \"\"\"Function middleware that logs function calls with timing.\"\"\"\n",
    "\n",
    "    async def process(\n",
    "        self,\n",
    "        context: FunctionInvocationContext,\n",
    "        next: Callable[[FunctionInvocationContext], Awaitable[None]],\n",
    "    ) -> None:\n",
    "        function_name = context.function.name\n",
    "        print(f\"[LoggingMiddleware] About to call function: {function_name}\")\n",
    "\n",
    "        start_time = time.time()\n",
    "        await next(context)\n",
    "        end_time = time.time()\n",
    "        \n",
    "        duration = end_time - start_time\n",
    "        print(f\"[LoggingMiddleware] Function {function_name} completed in {duration:.5f}s\")"
   ]
  },
  {
   "cell_type": "markdown",
   "metadata": {},
   "source": [
    "## Example: Using Class-Based Middleware"
   ]
  },
  {
   "cell_type": "code",
   "execution_count": null,
   "metadata": {},
   "outputs": [],
   "source": [
    "async def main():\n",
    "    \"\"\"Example demonstrating class-based middleware.\"\"\"\n",
    "    print(\"=== Class-based Middleware Example ===\\n\")\n",
    "    \n",
    "    async with (\n",
    "        AzureCliCredential() as credential,\n",
    "        AzureAIAgentClient(async_credential=credential).create_agent(\n",
    "            name=\"WeatherAgent\",\n",
    "            instructions=\"You are a helpful weather assistant.\",\n",
    "            tools=get_weather,\n",
    "            middleware=[SecurityAgentMiddleware(), LoggingFunctionMiddleware()],\n",
    "        ) as agent,\n",
    "    ):\n",
    "        # Test with normal query\n",
    "        print(\"--- Normal Query ---\")\n",
    "        query = \"What's the weather like in Seattle?\"\n",
    "        print(f\"User: {query}\")\n",
    "        result = await agent.run(query)\n",
    "        print(f\"Agent: {result.text}\\n\")\n",
    "\n",
    "        # Test with security-related query\n",
    "        print(\"--- Security Test ---\")\n",
    "        query = \"What's the password for the weather service?\"\n",
    "        print(f\"User: {query}\")\n",
    "        result = await agent.run(query)\n",
    "        print(f\"Agent: {result.text}\")\n",
    "\n",
    "await main()"
   ]
  },
  {
   "cell_type": "markdown",
   "metadata": {},
   "source": [
    "## Key Takeaways\n",
    "\n",
    "- Class-based middleware can maintain state (like counters, caches, etc.)\n",
    "- Implement `AgentMiddleware` and override lifecycle methods\n",
    "- Instances can be reused across multiple agents\n",
    "- Great for complex middleware that needs initialization or cleanup\n",
    "\n",
    "## Next Steps\n",
    "\n",
    "- **Decorator middleware** (notebook 4) for simplified syntax\n",
    "- **Exception handling** (notebook 6) for robust error management"
   ]
  }
 ],
 "metadata": {
  "kernelspec": {
   "display_name": "Python 3",
   "language": "python",
   "name": "python3"
  },
  "language_info": {
   "name": "python",
   "version": "3.11.0"
  }
 },
 "nbformat": 4,
 "nbformat_minor": 2
}