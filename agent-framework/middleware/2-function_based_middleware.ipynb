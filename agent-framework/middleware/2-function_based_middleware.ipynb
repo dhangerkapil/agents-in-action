{
 "cells": [
  {
   "cell_type": "markdown",
   "metadata": {},
   "source": [
    "# Function-Based Middleware\n",
    "\n",
    "This notebook demonstrates how to create middleware using simple functions rather than classes.\n",
    "\n",
    "## Key Concepts\n",
    "\n",
    "- **Simplicity**: Function-based middleware is easier to write and understand\n",
    "- **Decorator Support**: Can be used with `@agent.middleware` decorator\n",
    "- **Composability**: Multiple function middleware can be chained together\n",
    "\n",
    "## Prerequisites\n",
    "\n",
    "- Azure OpenAI endpoint and deployment configured in `.env`\n",
    "- `agent-framework` package installed\n",
    "- Azure CLI authentication"
   ]
  },
  {
   "cell_type": "code",
   "execution_count": null,
   "metadata": {},
   "outputs": [],
   "source": [
    "import os\n",
    "from dotenv import load_dotenv\n",
    "\n",
    "load_dotenv('../.env')\n",
    "\n",
    "project_endpoint = os.getenv(\"AZURE_AI_PROJECT_ENDPOINT\")\n",
    "model_deployment_name = os.getenv(\"AZURE_AI_MODEL_DEPLOYMENT_NAME\")\n",
    "\n",
    "print(f\"Project Endpoint: {project_endpoint}\")\n",
    "print(f\"Model Deployment: {model_deployment_name}\")"
   ]
  },
  {
   "cell_type": "code",
   "execution_count": null,
   "metadata": {},
   "outputs": [],
   "source": [
    "from collections.abc import Awaitable, Callable\n",
    "from random import randint\n",
    "from typing import Annotated\n",
    "\n",
    "from agent_framework import FunctionInvocationContext\n",
    "from agent_framework.azure import AzureAIAgentClient\n",
    "from azure.identity.aio import AzureCliCredential\n",
    "from pydantic import Field"
   ]
  },
  {
   "cell_type": "markdown",
   "metadata": {},
   "source": [
    "## Define Tool Function"
   ]
  },
  {
   "cell_type": "code",
   "execution_count": null,
   "metadata": {},
   "outputs": [],
   "source": [
    "def get_weather(\n",
    "    location: Annotated[str, Field(description=\"The location to get the weather for.\")],\n",
    ") -> str:\n",
    "    \"\"\"Get the weather for a given location.\"\"\"\n",
    "    conditions = [\"sunny\", \"cloudy\", \"rainy\", \"stormy\"]\n",
    "    return f\"The weather in {location} is {conditions[randint(0, 3)]} with a high of {randint(10, 30)}\u00c2\u00b0C.\""
   ]
  },
  {
   "cell_type": "markdown",
   "metadata": {},
   "source": [
    "## Function-Based Middleware\n",
    "\n",
    "Instead of creating a class, we can use a simple async function that follows the middleware signature."
   ]
  },
  {
   "cell_type": "code",
   "execution_count": null,
   "metadata": {},
   "outputs": [],
   "source": [
    "async def logging_middleware(\n",
    "    context: FunctionInvocationContext,\n",
    "    next: Callable[[FunctionInvocationContext], Awaitable[None]],\n",
    ") -> None:\n",
    "    \"\"\"Simple function-based middleware to log function invocations.\"\"\"\n",
    "    function_name = context.function.name\n",
    "    print(f\"[Middleware] About to call function: {function_name}\")\n",
    "    \n",
    "    await next(context)\n",
    "    \n",
    "    print(f\"[Middleware] Function {function_name} completed\")"
   ]
  },
  {
   "cell_type": "markdown",
   "metadata": {},
   "source": [
    "## Example: Using Function-Based Middleware"
   ]
  },
  {
   "cell_type": "code",
   "execution_count": null,
   "metadata": {},
   "outputs": [],
   "source": [
    "async def main():\n",
    "    \"\"\"Main function to demonstrate function-based middleware.\"\"\"\n",
    "    print(\"=== Function-based Middleware Example ===\\n\")\n",
    "    \n",
    "    async with (\n",
    "        AzureCliCredential() as credential,\n",
    "        AzureAIAgentClient(async_credential=credential).create_agent(\n",
    "            name=\"WeatherAgent\",\n",
    "            instructions=\"You are a helpful weather assistant that provides weather information.\",\n",
    "            tools=get_weather,\n",
    "            middleware=[logging_middleware],\n",
    "        ) as agent,\n",
    "    ):\n",
    "        print(\"Agent created with function-based middleware\\n\")\n",
    "        \n",
    "        query = \"What's the weather in Tokyo?\"\n",
    "        print(f\"User: {query}\")\n",
    "        result = await agent.run(query)\n",
    "        print(f\"Agent: {result.text if result.text else 'No response'}\")\n",
    "\n",
    "await main()"
   ]
  },
  {
   "cell_type": "markdown",
   "metadata": {},
   "source": [
    "## Key Takeaways\n",
    "\n",
    "- Function-based middleware is simpler than class-based middleware\n",
    "- Just need an async function with the right signature: `(context, next_middleware) -> result`\n",
    "- Perfect for simple logging, timing, or transformation tasks\n",
    "- Can be mixed with class-based middleware\n",
    "\n",
    "## Next Steps\n",
    "\n",
    "- **Class-based middleware** (notebook 3) for more complex scenarios\n",
    "- **Decorator middleware** (notebook 4) for cleaner syntax"
   ]
  }
 ],
 "metadata": {
  "kernelspec": {
   "display_name": ".venv",
   "language": "python",
   "name": "python3"
  },
  "language_info": {
   "codemirror_mode": {
    "name": "ipython",
    "version": 3
   },
   "file_extension": ".py",
   "mimetype": "text/x-python",
   "name": "python",
   "nbconvert_exporter": "python",
   "pygments_lexer": "ipython3",
   "version": "3.12.10"
  }
 },
 "nbformat": 4,
 "nbformat_minor": 2
}